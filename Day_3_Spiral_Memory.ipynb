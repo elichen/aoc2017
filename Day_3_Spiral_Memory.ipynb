{
  "nbformat": 4,
  "nbformat_minor": 0,
  "metadata": {
    "colab": {
      "provenance": [],
      "authorship_tag": "ABX9TyPGaPKORUPsYS19gnR9SA4O",
      "include_colab_link": true
    },
    "kernelspec": {
      "name": "python3",
      "display_name": "Python 3"
    },
    "language_info": {
      "name": "python"
    }
  },
  "cells": [
    {
      "cell_type": "markdown",
      "metadata": {
        "id": "view-in-github",
        "colab_type": "text"
      },
      "source": [
        "<a href=\"https://colab.research.google.com/github/elichen/aoc2017/blob/main/Day_3_Spiral_Memory.ipynb\" target=\"_parent\"><img src=\"https://colab.research.google.com/assets/colab-badge.svg\" alt=\"Open In Colab\"/></a>"
      ]
    },
    {
      "cell_type": "code",
      "execution_count": 30,
      "metadata": {
        "colab": {
          "base_uri": "https://localhost:8080/"
        },
        "id": "EgbL3_NLI8pa",
        "outputId": "15ba4618-e68a-43e7-ac5f-2fb26df17de9"
      },
      "outputs": [
        {
          "output_type": "execute_result",
          "data": {
            "text/plain": [
              "326"
            ]
          },
          "metadata": {},
          "execution_count": 30
        }
      ],
      "source": [
        "hi = 361527\n",
        "curr = [0,0]\n",
        "count_max = 1\n",
        "count = 0\n",
        "sign = 1\n",
        "mode = 0\n",
        "for i in range(1,hi):\n",
        "  # print(i, curr)\n",
        "  curr[mode] += sign\n",
        "  count += 1\n",
        "  if count == count_max:\n",
        "    count = 0\n",
        "    if mode == 0:\n",
        "      mode = 1\n",
        "    else:\n",
        "      mode = 0\n",
        "      sign *= -1\n",
        "      count_max += 1\n",
        "sum([abs(x) for x in curr])"
      ]
    }
  ]
}
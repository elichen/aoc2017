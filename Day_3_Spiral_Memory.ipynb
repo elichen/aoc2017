{
  "nbformat": 4,
  "nbformat_minor": 0,
  "metadata": {
    "colab": {
      "provenance": [],
      "authorship_tag": "ABX9TyM4Qt1dgGKjZXpp6/IzDJIM",
      "include_colab_link": true
    },
    "kernelspec": {
      "name": "python3",
      "display_name": "Python 3"
    },
    "language_info": {
      "name": "python"
    }
  },
  "cells": [
    {
      "cell_type": "markdown",
      "metadata": {
        "id": "view-in-github",
        "colab_type": "text"
      },
      "source": [
        "<a href=\"https://colab.research.google.com/github/elichen/aoc2017/blob/main/Day_3_Spiral_Memory.ipynb\" target=\"_parent\"><img src=\"https://colab.research.google.com/assets/colab-badge.svg\" alt=\"Open In Colab\"/></a>"
      ]
    },
    {
      "cell_type": "code",
      "execution_count": 30,
      "metadata": {
        "colab": {
          "base_uri": "https://localhost:8080/"
        },
        "id": "EgbL3_NLI8pa",
        "outputId": "15ba4618-e68a-43e7-ac5f-2fb26df17de9"
      },
      "outputs": [
        {
          "output_type": "execute_result",
          "data": {
            "text/plain": [
              "326"
            ]
          },
          "metadata": {},
          "execution_count": 30
        }
      ],
      "source": [
        "hi = 361527\n",
        "curr = [0,0]\n",
        "count_max = 1\n",
        "count = 0\n",
        "sign = 1\n",
        "mode = 0\n",
        "for i in range(1,hi):\n",
        "  # print(i, curr)\n",
        "  curr[mode] += sign\n",
        "  count += 1\n",
        "  if count == count_max:\n",
        "    count = 0\n",
        "    if mode == 0:\n",
        "      mode = 1\n",
        "    else:\n",
        "      mode = 0\n",
        "      sign *= -1\n",
        "      count_max += 1\n",
        "sum([abs(x) for x in curr])"
      ]
    },
    {
      "cell_type": "code",
      "source": [
        "def find_neighbors(arr, row, col):\n",
        "    rows, cols = arr.shape\n",
        "    return [arr[i, j] for i in range(row - 1, row + 2)\n",
        "            for j in range(col - 1, col + 2)\n",
        "            if (0 <= i < rows and 0 <= j < cols) and (i, j) != (row, col)]"
      ],
      "metadata": {
        "id": "gVoA19tc5hvH"
      },
      "execution_count": 39,
      "outputs": []
    },
    {
      "cell_type": "code",
      "source": [
        "import numpy as np\n",
        "m = np.zeros((10,10))\n",
        "offset = m.shape[0]//2\n",
        "m[offset,offset] = 1\n",
        "hi = 361527\n",
        "curr = [0,0]\n",
        "count_max = 1\n",
        "count = 0\n",
        "sign = 1\n",
        "mode = 0\n",
        "for i in range(1,hi):\n",
        "  if i > 1:\n",
        "    a = sum(find_neighbors(m, curr[1]+offset, curr[0]+offset))\n",
        "    if a > hi:\n",
        "      print(a)\n",
        "      break\n",
        "    m[curr[1]+offset,curr[0]+offset] = a\n",
        "  curr[mode] += sign\n",
        "  count += 1\n",
        "  if count == count_max:\n",
        "    count = 0\n",
        "    if mode == 0:\n",
        "      mode = 1\n",
        "    else:\n",
        "      mode = 0\n",
        "      sign *= -1\n",
        "      count_max += 1"
      ],
      "metadata": {
        "colab": {
          "base_uri": "https://localhost:8080/"
        },
        "id": "SXQReUed4_70",
        "outputId": "02742468-63d1-4eb7-f074-f0dfc293b4e5"
      },
      "execution_count": 57,
      "outputs": [
        {
          "output_type": "stream",
          "name": "stdout",
          "text": [
            "363010.0\n"
          ]
        }
      ]
    }
  ]
}
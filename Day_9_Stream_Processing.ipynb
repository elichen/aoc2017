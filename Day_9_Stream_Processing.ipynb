{
  "nbformat": 4,
  "nbformat_minor": 0,
  "metadata": {
    "colab": {
      "provenance": [],
      "authorship_tag": "ABX9TyMTQTctCWpz04vNjBSeMss1",
      "include_colab_link": true
    },
    "kernelspec": {
      "name": "python3",
      "display_name": "Python 3"
    },
    "language_info": {
      "name": "python"
    }
  },
  "cells": [
    {
      "cell_type": "markdown",
      "metadata": {
        "id": "view-in-github",
        "colab_type": "text"
      },
      "source": [
        "<a href=\"https://colab.research.google.com/github/elichen/aoc2017/blob/main/Day_9_Stream_Processing.ipynb\" target=\"_parent\"><img src=\"https://colab.research.google.com/assets/colab-badge.svg\" alt=\"Open In Colab\"/></a>"
      ]
    },
    {
      "cell_type": "code",
      "execution_count": 37,
      "metadata": {
        "id": "QrWwCd02mBDY"
      },
      "outputs": [],
      "source": [
        "def parse_string(s):\n",
        "    def remove_cancelled_chars(garbage):\n",
        "        result = \"\"\n",
        "        skip_next = False\n",
        "        for char in garbage:\n",
        "            if skip_next:\n",
        "                skip_next = False\n",
        "            elif char == '!':\n",
        "                skip_next = True\n",
        "            else:\n",
        "                result += char\n",
        "        return result\n",
        "\n",
        "    def find_garbage_end(group_str, start):\n",
        "        i = start\n",
        "        skip_next = False\n",
        "        while i < len(group_str):\n",
        "            if skip_next:\n",
        "                skip_next = False\n",
        "            elif group_str[i] == '!':\n",
        "                skip_next = True\n",
        "            elif group_str[i] == '>':\n",
        "                return i\n",
        "            i += 1\n",
        "        return i\n",
        "\n",
        "    def parse_group(group_str, start=0):\n",
        "        elements = []\n",
        "        i = start\n",
        "        while i < len(group_str):\n",
        "            char = group_str[i]\n",
        "            if char == '{':\n",
        "                sub_group, next_index = parse_group(group_str, i + 1)\n",
        "                elements.append(sub_group)\n",
        "                i = next_index\n",
        "            elif char == '}':\n",
        "                return elements, i + 1\n",
        "            elif char == '<':\n",
        "                garbage_end = find_garbage_end(group_str, i + 1)\n",
        "                garbage = remove_cancelled_chars(group_str[i+1:garbage_end])\n",
        "                elements.append(garbage)\n",
        "                i = garbage_end + 1\n",
        "            else:\n",
        "                i += 1\n",
        "        return elements, i\n",
        "\n",
        "    parsed_elements, _ = parse_group(s)\n",
        "    return parsed_elements[0] if len(parsed_elements) == 1 and isinstance(parsed_elements[0], list) else parsed_elements"
      ]
    },
    {
      "cell_type": "code",
      "source": [
        "def calc_score(group, start_score):\n",
        "  if not isinstance(group, list): return 0\n",
        "  total = start_score\n",
        "  if len(group) > 0:\n",
        "    total += sum([calc_score(x, start_score+1) for x in group])\n",
        "  return total\n",
        "\n",
        "data = \"{{<a!>},{<a!>},{<a!>},{<ab>}}\"\n",
        "data = open(\"input.txt\").read()\n",
        "calc_score(parse_string(data), 1)"
      ],
      "metadata": {
        "colab": {
          "base_uri": "https://localhost:8080/"
        },
        "id": "kIIrp2--mWB0",
        "outputId": "9bb5d914-fe72-426d-8d6f-b9b3143983ee"
      },
      "execution_count": 40,
      "outputs": [
        {
          "output_type": "execute_result",
          "data": {
            "text/plain": [
              "20530"
            ]
          },
          "metadata": {},
          "execution_count": 40
        }
      ]
    }
  ]
}
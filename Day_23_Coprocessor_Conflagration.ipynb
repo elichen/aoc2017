{
  "nbformat": 4,
  "nbformat_minor": 0,
  "metadata": {
    "colab": {
      "provenance": [],
      "authorship_tag": "ABX9TyMl8eNZCrjxLZj0J0Wov+p/",
      "include_colab_link": true
    },
    "kernelspec": {
      "name": "python3",
      "display_name": "Python 3"
    },
    "language_info": {
      "name": "python"
    }
  },
  "cells": [
    {
      "cell_type": "markdown",
      "metadata": {
        "id": "view-in-github",
        "colab_type": "text"
      },
      "source": [
        "<a href=\"https://colab.research.google.com/github/elichen/aoc2017/blob/main/Day_23_Coprocessor_Conflagration.ipynb\" target=\"_parent\"><img src=\"https://colab.research.google.com/assets/colab-badge.svg\" alt=\"Open In Colab\"/></a>"
      ]
    },
    {
      "cell_type": "code",
      "source": [
        "data = \"\"\"set b 79\n",
        "set c b\n",
        "jnz a 2\n",
        "jnz 1 5\n",
        "mul b 100\n",
        "sub b -100000\n",
        "set c b\n",
        "sub c -17000\n",
        "set f 1\n",
        "set d 2\n",
        "set e 2\n",
        "set g d\n",
        "mul g e\n",
        "sub g b\n",
        "jnz g 2\n",
        "set f 0\n",
        "sub e -1\n",
        "set g e\n",
        "sub g b\n",
        "jnz g -8\n",
        "sub d -1\n",
        "set g d\n",
        "sub g b\n",
        "jnz g -13\n",
        "jnz f 2\n",
        "sub h -1\n",
        "set g b\n",
        "sub g c\n",
        "jnz g 2\n",
        "jnz 1 3\n",
        "sub b -17\n",
        "jnz 1 -23\"\"\".split('\\n')"
      ],
      "metadata": {
        "id": "7Uvt6BvSvFyL"
      },
      "execution_count": 1,
      "outputs": []
    },
    {
      "cell_type": "code",
      "execution_count": 2,
      "metadata": {
        "colab": {
          "base_uri": "https://localhost:8080/"
        },
        "id": "GVlkY-EzqEqy",
        "outputId": "436d1080-456d-4810-aef9-24c4fd6990ac"
      },
      "outputs": [
        {
          "output_type": "execute_result",
          "data": {
            "text/plain": [
              "5929"
            ]
          },
          "metadata": {},
          "execution_count": 2
        }
      ],
      "source": [
        "class Machine:\n",
        "    def __init__(self):\n",
        "        self.registers = {}\n",
        "        self.instruction_pointer = 0\n",
        "\n",
        "    def get_value(self, operand):\n",
        "        try:\n",
        "            return int(operand)\n",
        "        except ValueError:\n",
        "            return self.registers.get(operand, 0)\n",
        "\n",
        "    def set(self, X, Y):\n",
        "        self.registers[X] = self.get_value(Y)\n",
        "\n",
        "    def sub(self, X, Y):\n",
        "        self.registers[X] = self.get_value(X) - self.get_value(Y)\n",
        "\n",
        "    def mul(self, X, Y):\n",
        "        self.registers[X] = self.get_value(X) * self.get_value(Y)\n",
        "\n",
        "    def jnz(self, X, Y):\n",
        "        if self.get_value(X) != 0:\n",
        "            self.instruction_pointer += self.get_value(Y) - 1\n",
        "\n",
        "m = Machine()\n",
        "\n",
        "total = 0\n",
        "while 0 <= m.instruction_pointer < len(data):\n",
        "    instruction = data[m.instruction_pointer].split()\n",
        "    cmd = instruction[0]\n",
        "    args = instruction[1:]\n",
        "    getattr(m, cmd)(*args)\n",
        "    m.instruction_pointer += 1\n",
        "    if cmd == \"mul\":\n",
        "      total += 1\n",
        "total"
      ]
    },
    {
      "cell_type": "code",
      "source": [
        "m = Machine()\n",
        "m.registers['a'] = 1\n",
        "for _ in range(10):\n",
        "    instruction = data[m.instruction_pointer].split()\n",
        "    cmd = instruction[0]\n",
        "    args = instruction[1:]\n",
        "    getattr(m, cmd)(*args)\n",
        "    print(instruction, m.registers)\n",
        "    m.instruction_pointer += 1"
      ],
      "metadata": {
        "id": "ZUcVwvTYeSTu",
        "colab": {
          "base_uri": "https://localhost:8080/"
        },
        "outputId": "60645699-af99-4bce-a05f-10d58d841c50"
      },
      "execution_count": 7,
      "outputs": [
        {
          "output_type": "stream",
          "name": "stdout",
          "text": [
            "['set', 'b', '79'] {'a': 1, 'b': 79}\n",
            "['set', 'c', 'b'] {'a': 1, 'b': 79, 'c': 79}\n",
            "['jnz', 'a', '2'] {'a': 1, 'b': 79, 'c': 79}\n",
            "['mul', 'b', '100'] {'a': 1, 'b': 7900, 'c': 79}\n",
            "['sub', 'b', '-100000'] {'a': 1, 'b': 107900, 'c': 79}\n",
            "['set', 'c', 'b'] {'a': 1, 'b': 107900, 'c': 107900}\n",
            "['sub', 'c', '-17000'] {'a': 1, 'b': 107900, 'c': 124900}\n",
            "['set', 'f', '1'] {'a': 1, 'b': 107900, 'c': 124900, 'f': 1}\n",
            "['set', 'd', '2'] {'a': 1, 'b': 107900, 'c': 124900, 'f': 1, 'd': 2}\n",
            "['set', 'e', '2'] {'a': 1, 'b': 107900, 'c': 124900, 'f': 1, 'd': 2, 'e': 2}\n"
          ]
        }
      ]
    },
    {
      "cell_type": "code",
      "source": [
        "# Assuming 'a' might be set elsewhere and affects whether certain instructions are skipped or not\n",
        "a, h = 1, 0  # Initialize 'a' and 'h'\n",
        "\n",
        "# Initialize 'b' and 'c' based on the original instructions\n",
        "b = 79\n",
        "b = b * 100 + 100000  # Adjust 'b' as per instructions\n",
        "c = b + 17000  # Set 'c' to its final value as per instructions\n",
        "\n",
        "# Iterate from 'b' to 'c', in steps of 17\n",
        "for num in range(b, c + 1, 17):\n",
        "    f = 1  # Reset 'f' for each number in the range\n",
        "\n",
        "    # Check for factors of 'num'\n",
        "    for d in range(2, num):\n",
        "        if num % d == 0:\n",
        "            f = 0  # 'num' has a factor other than 1 and itself\n",
        "            break\n",
        "\n",
        "    # If 'f' was set to 0, 'num' is not a prime number, increment 'h'\n",
        "    if f == 0:\n",
        "        h += 1\n",
        "\n",
        "# 'h' now contains the count of numbers within the range [b, c] that have factors, implying they are not prime\n",
        "print(h)"
      ],
      "metadata": {
        "colab": {
          "base_uri": "https://localhost:8080/"
        },
        "id": "IV49dtwqkPkn",
        "outputId": "84b50523-3d54-4dd3-c964-11eadd9a6bbe"
      },
      "execution_count": 8,
      "outputs": [
        {
          "output_type": "stream",
          "name": "stdout",
          "text": [
            "907\n"
          ]
        }
      ]
    }
  ]
}
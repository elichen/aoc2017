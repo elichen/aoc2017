{
  "nbformat": 4,
  "nbformat_minor": 0,
  "metadata": {
    "colab": {
      "provenance": [],
      "authorship_tag": "ABX9TyMSUZI+cKTiASDgRmKrVkBJ",
      "include_colab_link": true
    },
    "kernelspec": {
      "name": "python3",
      "display_name": "Python 3"
    },
    "language_info": {
      "name": "python"
    }
  },
  "cells": [
    {
      "cell_type": "markdown",
      "metadata": {
        "id": "view-in-github",
        "colab_type": "text"
      },
      "source": [
        "<a href=\"https://colab.research.google.com/github/elichen/aoc2017/blob/main/Day_23_Coprocessor_Conflagration.ipynb\" target=\"_parent\"><img src=\"https://colab.research.google.com/assets/colab-badge.svg\" alt=\"Open In Colab\"/></a>"
      ]
    },
    {
      "cell_type": "code",
      "source": [
        "data = \"\"\"set b 79\n",
        "set c b\n",
        "jnz a 2\n",
        "jnz 1 5\n",
        "mul b 100\n",
        "sub b -100000\n",
        "set c b\n",
        "sub c -17000\n",
        "set f 1\n",
        "set d 2\n",
        "set e 2\n",
        "set g d\n",
        "mul g e\n",
        "sub g b\n",
        "jnz g 2\n",
        "set f 0\n",
        "sub e -1\n",
        "set g e\n",
        "sub g b\n",
        "jnz g -8\n",
        "sub d -1\n",
        "set g d\n",
        "sub g b\n",
        "jnz g -13\n",
        "jnz f 2\n",
        "sub h -1\n",
        "set g b\n",
        "sub g c\n",
        "jnz g 2\n",
        "jnz 1 3\n",
        "sub b -17\n",
        "jnz 1 -23\"\"\".split('\\n')"
      ],
      "metadata": {
        "id": "7Uvt6BvSvFyL"
      },
      "execution_count": 1,
      "outputs": []
    },
    {
      "cell_type": "code",
      "execution_count": 9,
      "metadata": {
        "colab": {
          "base_uri": "https://localhost:8080/"
        },
        "id": "GVlkY-EzqEqy",
        "outputId": "41c86226-150c-4b9a-a3fe-e98d5104acfd"
      },
      "outputs": [
        {
          "output_type": "execute_result",
          "data": {
            "text/plain": [
              "5929"
            ]
          },
          "metadata": {},
          "execution_count": 9
        }
      ],
      "source": [
        "class Machine:\n",
        "    def __init__(self):\n",
        "        self.registers = {}\n",
        "        self.instruction_pointer = 0\n",
        "\n",
        "    def get_value(self, operand):\n",
        "        try:\n",
        "            return int(operand)\n",
        "        except ValueError:\n",
        "            return self.registers.get(operand, 0)\n",
        "\n",
        "    def set(self, X, Y):\n",
        "        self.registers[X] = self.get_value(Y)\n",
        "\n",
        "    def sub(self, X, Y):\n",
        "        self.registers[X] = self.get_value(X) - self.get_value(Y)\n",
        "\n",
        "    def mul(self, X, Y):\n",
        "        self.registers[X] = self.get_value(X) * self.get_value(Y)\n",
        "\n",
        "    def jnz(self, X, Y):\n",
        "        if self.get_value(X) != 0:\n",
        "            self.instruction_pointer += self.get_value(Y) - 1\n",
        "\n",
        "m = Machine()\n",
        "\n",
        "total = 0\n",
        "while 0 <= m.instruction_pointer < len(data):\n",
        "    instruction = data[m.instruction_pointer].split()\n",
        "    cmd = instruction[0]\n",
        "    args = instruction[1:]\n",
        "    getattr(m, cmd)(*args)\n",
        "    m.instruction_pointer += 1\n",
        "    if cmd == \"mul\":\n",
        "      total += 1\n",
        "total"
      ]
    },
    {
      "cell_type": "code",
      "source": [],
      "metadata": {
        "id": "ZUcVwvTYeSTu"
      },
      "execution_count": null,
      "outputs": []
    }
  ]
}
{
  "nbformat": 4,
  "nbformat_minor": 0,
  "metadata": {
    "colab": {
      "provenance": [],
      "authorship_tag": "ABX9TyN9GIJ23ClyHJJVBvmx8wSC",
      "include_colab_link": true
    },
    "kernelspec": {
      "name": "python3",
      "display_name": "Python 3"
    },
    "language_info": {
      "name": "python"
    }
  },
  "cells": [
    {
      "cell_type": "markdown",
      "metadata": {
        "id": "view-in-github",
        "colab_type": "text"
      },
      "source": [
        "<a href=\"https://colab.research.google.com/github/elichen/aoc2017/blob/main/Day_16_Permutation_Promenade.ipynb\" target=\"_parent\"><img src=\"https://colab.research.google.com/assets/colab-badge.svg\" alt=\"Open In Colab\"/></a>"
      ]
    },
    {
      "cell_type": "code",
      "execution_count": 85,
      "metadata": {
        "id": "22qaPOsfG6fM"
      },
      "outputs": [],
      "source": [
        "# data = \"s1,x3/4,pe/b\".split(',')\n",
        "data = open(\"input.txt\").read().rstrip().split(',')"
      ]
    },
    {
      "cell_type": "code",
      "source": [
        "def dance(l):\n",
        "  for s in data:\n",
        "    m = s[0]\n",
        "    if m == \"s\":\n",
        "      n = int(s[1:])\n",
        "      l = l[len(l)-n:]+l[:len(l)-n]\n",
        "    elif m == \"x\":\n",
        "      i1,i2 = list(map(int,s[1:].split('/')))\n",
        "      t1,t2 = l[i1],l[i2]\n",
        "      l[i1],l[i2] = t2,t1\n",
        "    elif m == \"p\":\n",
        "      a1,a2 = s[1:].split('/')\n",
        "      i1,i2 = l.index(a1),l.index(a2)\n",
        "      l[i1],l[i2] = a2,a1\n",
        "  return l"
      ],
      "metadata": {
        "id": "u-Fe2JKjMFV_"
      },
      "execution_count": 86,
      "outputs": []
    },
    {
      "cell_type": "code",
      "source": [
        "# l = [chr(ord('a')+x) for x in range(5)]\n",
        "l = [chr(ord('a')+x) for x in range(16)]\n",
        "l = dance(l)\n",
        "\"\".join(l)"
      ],
      "metadata": {
        "colab": {
          "base_uri": "https://localhost:8080/",
          "height": 35
        },
        "id": "UnxyyycSHLx_",
        "outputId": "cb6482ff-bac2-4fc2-8dba-6db228a15a23"
      },
      "execution_count": 88,
      "outputs": [
        {
          "output_type": "execute_result",
          "data": {
            "text/plain": [
              "'cgpfhdnambekjiol'"
            ],
            "application/vnd.google.colaboratory.intrinsic+json": {
              "type": "string"
            }
          },
          "metadata": {},
          "execution_count": 88
        }
      ]
    },
    {
      "cell_type": "code",
      "source": [
        "# l = [chr(ord('a')+x) for x in range(5)]\n",
        "l = [chr(ord('a')+x) for x in range(16)]\n",
        "history = [\"\".join(l)]\n",
        "while True:\n",
        "  l = dance(l)\n",
        "  s = \"\".join(l)\n",
        "  if s in history:\n",
        "    break\n",
        "  history.append(s)\n",
        "len(history)"
      ],
      "metadata": {
        "colab": {
          "base_uri": "https://localhost:8080/"
        },
        "id": "Pva1iEkDHTWO",
        "outputId": "c7d513b3-5c7e-42b6-c313-f35c51f8e808"
      },
      "execution_count": 90,
      "outputs": [
        {
          "output_type": "execute_result",
          "data": {
            "text/plain": [
              "60"
            ]
          },
          "metadata": {},
          "execution_count": 90
        }
      ]
    },
    {
      "cell_type": "code",
      "source": [
        "history[1000000000 % len(history)]"
      ],
      "metadata": {
        "colab": {
          "base_uri": "https://localhost:8080/",
          "height": 35
        },
        "id": "9VAL-L3DNliK",
        "outputId": "aa17e114-d882-4fb2-a26b-684b2a75aea8"
      },
      "execution_count": 92,
      "outputs": [
        {
          "output_type": "execute_result",
          "data": {
            "text/plain": [
              "'gjmiofcnaehpdlbk'"
            ],
            "application/vnd.google.colaboratory.intrinsic+json": {
              "type": "string"
            }
          },
          "metadata": {},
          "execution_count": 92
        }
      ]
    }
  ]
}
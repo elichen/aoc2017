{
  "nbformat": 4,
  "nbformat_minor": 0,
  "metadata": {
    "colab": {
      "provenance": [],
      "authorship_tag": "ABX9TyNYUerWaMWztRKpbCzd5gat",
      "include_colab_link": true
    },
    "kernelspec": {
      "name": "python3",
      "display_name": "Python 3"
    },
    "language_info": {
      "name": "python"
    }
  },
  "cells": [
    {
      "cell_type": "markdown",
      "metadata": {
        "id": "view-in-github",
        "colab_type": "text"
      },
      "source": [
        "<a href=\"https://colab.research.google.com/github/elichen/aoc2017/blob/main/Day_6_Memory_Reallocation.ipynb\" target=\"_parent\"><img src=\"https://colab.research.google.com/assets/colab-badge.svg\" alt=\"Open In Colab\"/></a>"
      ]
    },
    {
      "cell_type": "code",
      "execution_count": 20,
      "metadata": {
        "id": "PaCjsrEw3NAl"
      },
      "outputs": [],
      "source": [
        "data = \"0 2 7 0\""
      ]
    },
    {
      "cell_type": "code",
      "source": [
        "data = \"11\t11\t13\t7\t0\t15\t5\t5\t4\t4\t1\t1\t7\t1\t15\t11\""
      ],
      "metadata": {
        "id": "HT9DDW3_6Sw8"
      },
      "execution_count": 25,
      "outputs": []
    },
    {
      "cell_type": "code",
      "source": [
        "banks = list(map(int, data.split()))\n",
        "seen = {tuple(banks)}\n",
        "cycles = 0\n",
        "while True:\n",
        "  blocks = max(banks)\n",
        "  idx = banks.index(blocks)\n",
        "  banks[idx] = 0\n",
        "  for i in range(1, blocks+1):\n",
        "    banks[(idx+i)%len(banks)] += 1\n",
        "  # print(banks)\n",
        "  cycles += 1\n",
        "  if tuple(banks) in seen:\n",
        "    break\n",
        "  else:\n",
        "    seen.add(tuple(banks))\n",
        "cycles"
      ],
      "metadata": {
        "colab": {
          "base_uri": "https://localhost:8080/"
        },
        "id": "e150Dduf3W4q",
        "outputId": "17dcfc17-f2bb-4d83-bc27-7737645ab45e"
      },
      "execution_count": 26,
      "outputs": [
        {
          "output_type": "execute_result",
          "data": {
            "text/plain": [
              "4074"
            ]
          },
          "metadata": {},
          "execution_count": 26
        }
      ]
    },
    {
      "cell_type": "code",
      "source": [
        "banks = list(map(int, data.split()))\n",
        "seen = {tuple(banks)}\n",
        "seen_once = False\n",
        "cycles = 0\n",
        "while True:\n",
        "  blocks = max(banks)\n",
        "  idx = banks.index(blocks)\n",
        "  banks[idx] = 0\n",
        "  for i in range(1, blocks+1):\n",
        "    banks[(idx+i)%len(banks)] += 1\n",
        "  # print(banks)\n",
        "  cycles += 1\n",
        "  if tuple(banks) in seen:\n",
        "    if seen_once:\n",
        "      break\n",
        "    else:\n",
        "      seen = {tuple(banks)}\n",
        "      seen_once = True\n",
        "      cycles = 0\n",
        "  else:\n",
        "    seen.add(tuple(banks))\n",
        "cycles"
      ],
      "metadata": {
        "colab": {
          "base_uri": "https://localhost:8080/"
        },
        "id": "XoSoDkyz6UEO",
        "outputId": "e0a334c2-4e94-4d32-de09-63e39b991b6a"
      },
      "execution_count": 27,
      "outputs": [
        {
          "output_type": "execute_result",
          "data": {
            "text/plain": [
              "2793"
            ]
          },
          "metadata": {},
          "execution_count": 27
        }
      ]
    },
    {
      "cell_type": "code",
      "source": [],
      "metadata": {
        "id": "iJ8PbXSz7G7E"
      },
      "execution_count": null,
      "outputs": []
    }
  ]
}
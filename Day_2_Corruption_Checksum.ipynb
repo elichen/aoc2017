{
  "nbformat": 4,
  "nbformat_minor": 0,
  "metadata": {
    "colab": {
      "provenance": [],
      "authorship_tag": "ABX9TyM6r5J+kl2dA/ey6wGMiGeh",
      "include_colab_link": true
    },
    "kernelspec": {
      "name": "python3",
      "display_name": "Python 3"
    },
    "language_info": {
      "name": "python"
    }
  },
  "cells": [
    {
      "cell_type": "markdown",
      "metadata": {
        "id": "view-in-github",
        "colab_type": "text"
      },
      "source": [
        "<a href=\"https://colab.research.google.com/github/elichen/aoc2017/blob/main/Day_2_Corruption_Checksum.ipynb\" target=\"_parent\"><img src=\"https://colab.research.google.com/assets/colab-badge.svg\" alt=\"Open In Colab\"/></a>"
      ]
    },
    {
      "cell_type": "code",
      "execution_count": 22,
      "metadata": {
        "id": "SnrU6W_dmCxe"
      },
      "outputs": [],
      "source": [
        "data = \"\"\"5 9 2 8\n",
        "9 4 7 3\n",
        "3 8 6 5\"\"\".split('\\n')"
      ]
    },
    {
      "cell_type": "code",
      "source": [
        "data = [x.rstrip() for x in open(\"input.txt\").readlines()]"
      ],
      "metadata": {
        "id": "eBn6-RcomlSU"
      },
      "execution_count": 23,
      "outputs": []
    },
    {
      "cell_type": "code",
      "source": [
        "total = 0\n",
        "for line in data:\n",
        "  ns = list(map(int, line.split()))\n",
        "  l = max(ns)\n",
        "  s = min(ns)\n",
        "  c = l-s\n",
        "  total += c\n",
        "total"
      ],
      "metadata": {
        "colab": {
          "base_uri": "https://localhost:8080/"
        },
        "id": "AYj4xngGmKFe",
        "outputId": "2d8c5720-80ad-49df-9ff4-916050d6c204"
      },
      "execution_count": 24,
      "outputs": [
        {
          "output_type": "execute_result",
          "data": {
            "text/plain": [
              "44216"
            ]
          },
          "metadata": {},
          "execution_count": 24
        }
      ]
    },
    {
      "cell_type": "code",
      "source": [
        "total = 0\n",
        "for line in data:\n",
        "  ns = list(map(int, line.split()))\n",
        "  for i in range(len(ns)):\n",
        "    for j in range(len(ns)):\n",
        "      if i != j and ns[i] % ns[j] == 0:\n",
        "        total += ns[i] // ns[j]\n",
        "total"
      ],
      "metadata": {
        "colab": {
          "base_uri": "https://localhost:8080/"
        },
        "id": "m_hfBSH4mXzU",
        "outputId": "38e55956-e6da-4ed3-ac8e-b3e87870492d"
      },
      "execution_count": 25,
      "outputs": [
        {
          "output_type": "execute_result",
          "data": {
            "text/plain": [
              "320"
            ]
          },
          "metadata": {},
          "execution_count": 25
        }
      ]
    },
    {
      "cell_type": "code",
      "source": [],
      "metadata": {
        "id": "L5oDmwApsqtU"
      },
      "execution_count": 25,
      "outputs": []
    }
  ]
}
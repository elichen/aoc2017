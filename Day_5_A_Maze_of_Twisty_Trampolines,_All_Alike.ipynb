{
  "nbformat": 4,
  "nbformat_minor": 0,
  "metadata": {
    "colab": {
      "provenance": [],
      "authorship_tag": "ABX9TyNfO4A3MOhA5kHIrxh22n0K",
      "include_colab_link": true
    },
    "kernelspec": {
      "name": "python3",
      "display_name": "Python 3"
    },
    "language_info": {
      "name": "python"
    }
  },
  "cells": [
    {
      "cell_type": "markdown",
      "metadata": {
        "id": "view-in-github",
        "colab_type": "text"
      },
      "source": [
        "<a href=\"https://colab.research.google.com/github/elichen/aoc2017/blob/main/Day_5_A_Maze_of_Twisty_Trampolines%2C_All_Alike.ipynb\" target=\"_parent\"><img src=\"https://colab.research.google.com/assets/colab-badge.svg\" alt=\"Open In Colab\"/></a>"
      ]
    },
    {
      "cell_type": "code",
      "execution_count": 1,
      "metadata": {
        "id": "JqgnGNzI6oc7"
      },
      "outputs": [],
      "source": [
        "data = \"\"\"0\n",
        "3\n",
        "0\n",
        "1\n",
        "-3\"\"\".split('\\n')"
      ]
    },
    {
      "cell_type": "code",
      "source": [
        "data = [x.rstrip() for x in open(\"input.txt\").readlines()]"
      ],
      "metadata": {
        "id": "JOKillyW7RKN"
      },
      "execution_count": 6,
      "outputs": []
    },
    {
      "cell_type": "code",
      "source": [
        "l = list(map(int, data))\n",
        "i = 0\n",
        "steps = 0\n",
        "while i >=0 and i < len(l):\n",
        "  tmp = i\n",
        "  tmp += l[i]\n",
        "  l[i] += 1\n",
        "  i = tmp\n",
        "  steps += 1\n",
        "steps"
      ],
      "metadata": {
        "colab": {
          "base_uri": "https://localhost:8080/"
        },
        "id": "Tijt3XWa6sKh",
        "outputId": "8c399c35-e4ea-43c5-8997-64f825ec4cb7"
      },
      "execution_count": 7,
      "outputs": [
        {
          "output_type": "execute_result",
          "data": {
            "text/plain": [
              "339351"
            ]
          },
          "metadata": {},
          "execution_count": 7
        }
      ]
    },
    {
      "cell_type": "code",
      "source": [],
      "metadata": {
        "id": "32OJVcV_7T9i"
      },
      "execution_count": null,
      "outputs": []
    }
  ]
}
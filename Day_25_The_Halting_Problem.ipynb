{
  "nbformat": 4,
  "nbformat_minor": 0,
  "metadata": {
    "colab": {
      "provenance": [],
      "authorship_tag": "ABX9TyM5kRObFDweL3Y0bZrF7GE0",
      "include_colab_link": true
    },
    "kernelspec": {
      "name": "python3",
      "display_name": "Python 3"
    },
    "language_info": {
      "name": "python"
    },
    "widgets": {
      "application/vnd.jupyter.widget-state+json": {
        "0951fc3a881c4dafb206ddb79366149c": {
          "model_module": "@jupyter-widgets/controls",
          "model_name": "HBoxModel",
          "model_module_version": "1.5.0",
          "state": {
            "_dom_classes": [],
            "_model_module": "@jupyter-widgets/controls",
            "_model_module_version": "1.5.0",
            "_model_name": "HBoxModel",
            "_view_count": null,
            "_view_module": "@jupyter-widgets/controls",
            "_view_module_version": "1.5.0",
            "_view_name": "HBoxView",
            "box_style": "",
            "children": [
              "IPY_MODEL_89f98df3da5b46a4b7618043d8092f85",
              "IPY_MODEL_c35e2d5c7a9844ce918e2376f92dd2cb",
              "IPY_MODEL_8000c27bcf3441fc907f855a0982ccbb"
            ],
            "layout": "IPY_MODEL_c4f5a69cca694c27a4e1c254cc9d3ba5"
          }
        },
        "89f98df3da5b46a4b7618043d8092f85": {
          "model_module": "@jupyter-widgets/controls",
          "model_name": "HTMLModel",
          "model_module_version": "1.5.0",
          "state": {
            "_dom_classes": [],
            "_model_module": "@jupyter-widgets/controls",
            "_model_module_version": "1.5.0",
            "_model_name": "HTMLModel",
            "_view_count": null,
            "_view_module": "@jupyter-widgets/controls",
            "_view_module_version": "1.5.0",
            "_view_name": "HTMLView",
            "description": "",
            "description_tooltip": null,
            "layout": "IPY_MODEL_fd21581affc5483591c157775762612b",
            "placeholder": "​",
            "style": "IPY_MODEL_c18f012618bd458e813c57ed818fdf53",
            "value": "100%"
          }
        },
        "c35e2d5c7a9844ce918e2376f92dd2cb": {
          "model_module": "@jupyter-widgets/controls",
          "model_name": "FloatProgressModel",
          "model_module_version": "1.5.0",
          "state": {
            "_dom_classes": [],
            "_model_module": "@jupyter-widgets/controls",
            "_model_module_version": "1.5.0",
            "_model_name": "FloatProgressModel",
            "_view_count": null,
            "_view_module": "@jupyter-widgets/controls",
            "_view_module_version": "1.5.0",
            "_view_name": "ProgressView",
            "bar_style": "success",
            "description": "",
            "description_tooltip": null,
            "layout": "IPY_MODEL_144845b1a7b945779cd6951a381303eb",
            "max": 12586542,
            "min": 0,
            "orientation": "horizontal",
            "style": "IPY_MODEL_f7e586f515f64094bd8244da2f04994e",
            "value": 12586542
          }
        },
        "8000c27bcf3441fc907f855a0982ccbb": {
          "model_module": "@jupyter-widgets/controls",
          "model_name": "HTMLModel",
          "model_module_version": "1.5.0",
          "state": {
            "_dom_classes": [],
            "_model_module": "@jupyter-widgets/controls",
            "_model_module_version": "1.5.0",
            "_model_name": "HTMLModel",
            "_view_count": null,
            "_view_module": "@jupyter-widgets/controls",
            "_view_module_version": "1.5.0",
            "_view_name": "HTMLView",
            "description": "",
            "description_tooltip": null,
            "layout": "IPY_MODEL_1f565cfa24044bc6888eaac9916e804c",
            "placeholder": "​",
            "style": "IPY_MODEL_b2919391c1ae402d992c68f31f2c865a",
            "value": " 12586542/12586542 [00:35&lt;00:00, 390276.33it/s]"
          }
        },
        "c4f5a69cca694c27a4e1c254cc9d3ba5": {
          "model_module": "@jupyter-widgets/base",
          "model_name": "LayoutModel",
          "model_module_version": "1.2.0",
          "state": {
            "_model_module": "@jupyter-widgets/base",
            "_model_module_version": "1.2.0",
            "_model_name": "LayoutModel",
            "_view_count": null,
            "_view_module": "@jupyter-widgets/base",
            "_view_module_version": "1.2.0",
            "_view_name": "LayoutView",
            "align_content": null,
            "align_items": null,
            "align_self": null,
            "border": null,
            "bottom": null,
            "display": null,
            "flex": null,
            "flex_flow": null,
            "grid_area": null,
            "grid_auto_columns": null,
            "grid_auto_flow": null,
            "grid_auto_rows": null,
            "grid_column": null,
            "grid_gap": null,
            "grid_row": null,
            "grid_template_areas": null,
            "grid_template_columns": null,
            "grid_template_rows": null,
            "height": null,
            "justify_content": null,
            "justify_items": null,
            "left": null,
            "margin": null,
            "max_height": null,
            "max_width": null,
            "min_height": null,
            "min_width": null,
            "object_fit": null,
            "object_position": null,
            "order": null,
            "overflow": null,
            "overflow_x": null,
            "overflow_y": null,
            "padding": null,
            "right": null,
            "top": null,
            "visibility": null,
            "width": null
          }
        },
        "fd21581affc5483591c157775762612b": {
          "model_module": "@jupyter-widgets/base",
          "model_name": "LayoutModel",
          "model_module_version": "1.2.0",
          "state": {
            "_model_module": "@jupyter-widgets/base",
            "_model_module_version": "1.2.0",
            "_model_name": "LayoutModel",
            "_view_count": null,
            "_view_module": "@jupyter-widgets/base",
            "_view_module_version": "1.2.0",
            "_view_name": "LayoutView",
            "align_content": null,
            "align_items": null,
            "align_self": null,
            "border": null,
            "bottom": null,
            "display": null,
            "flex": null,
            "flex_flow": null,
            "grid_area": null,
            "grid_auto_columns": null,
            "grid_auto_flow": null,
            "grid_auto_rows": null,
            "grid_column": null,
            "grid_gap": null,
            "grid_row": null,
            "grid_template_areas": null,
            "grid_template_columns": null,
            "grid_template_rows": null,
            "height": null,
            "justify_content": null,
            "justify_items": null,
            "left": null,
            "margin": null,
            "max_height": null,
            "max_width": null,
            "min_height": null,
            "min_width": null,
            "object_fit": null,
            "object_position": null,
            "order": null,
            "overflow": null,
            "overflow_x": null,
            "overflow_y": null,
            "padding": null,
            "right": null,
            "top": null,
            "visibility": null,
            "width": null
          }
        },
        "c18f012618bd458e813c57ed818fdf53": {
          "model_module": "@jupyter-widgets/controls",
          "model_name": "DescriptionStyleModel",
          "model_module_version": "1.5.0",
          "state": {
            "_model_module": "@jupyter-widgets/controls",
            "_model_module_version": "1.5.0",
            "_model_name": "DescriptionStyleModel",
            "_view_count": null,
            "_view_module": "@jupyter-widgets/base",
            "_view_module_version": "1.2.0",
            "_view_name": "StyleView",
            "description_width": ""
          }
        },
        "144845b1a7b945779cd6951a381303eb": {
          "model_module": "@jupyter-widgets/base",
          "model_name": "LayoutModel",
          "model_module_version": "1.2.0",
          "state": {
            "_model_module": "@jupyter-widgets/base",
            "_model_module_version": "1.2.0",
            "_model_name": "LayoutModel",
            "_view_count": null,
            "_view_module": "@jupyter-widgets/base",
            "_view_module_version": "1.2.0",
            "_view_name": "LayoutView",
            "align_content": null,
            "align_items": null,
            "align_self": null,
            "border": null,
            "bottom": null,
            "display": null,
            "flex": null,
            "flex_flow": null,
            "grid_area": null,
            "grid_auto_columns": null,
            "grid_auto_flow": null,
            "grid_auto_rows": null,
            "grid_column": null,
            "grid_gap": null,
            "grid_row": null,
            "grid_template_areas": null,
            "grid_template_columns": null,
            "grid_template_rows": null,
            "height": null,
            "justify_content": null,
            "justify_items": null,
            "left": null,
            "margin": null,
            "max_height": null,
            "max_width": null,
            "min_height": null,
            "min_width": null,
            "object_fit": null,
            "object_position": null,
            "order": null,
            "overflow": null,
            "overflow_x": null,
            "overflow_y": null,
            "padding": null,
            "right": null,
            "top": null,
            "visibility": null,
            "width": null
          }
        },
        "f7e586f515f64094bd8244da2f04994e": {
          "model_module": "@jupyter-widgets/controls",
          "model_name": "ProgressStyleModel",
          "model_module_version": "1.5.0",
          "state": {
            "_model_module": "@jupyter-widgets/controls",
            "_model_module_version": "1.5.0",
            "_model_name": "ProgressStyleModel",
            "_view_count": null,
            "_view_module": "@jupyter-widgets/base",
            "_view_module_version": "1.2.0",
            "_view_name": "StyleView",
            "bar_color": null,
            "description_width": ""
          }
        },
        "1f565cfa24044bc6888eaac9916e804c": {
          "model_module": "@jupyter-widgets/base",
          "model_name": "LayoutModel",
          "model_module_version": "1.2.0",
          "state": {
            "_model_module": "@jupyter-widgets/base",
            "_model_module_version": "1.2.0",
            "_model_name": "LayoutModel",
            "_view_count": null,
            "_view_module": "@jupyter-widgets/base",
            "_view_module_version": "1.2.0",
            "_view_name": "LayoutView",
            "align_content": null,
            "align_items": null,
            "align_self": null,
            "border": null,
            "bottom": null,
            "display": null,
            "flex": null,
            "flex_flow": null,
            "grid_area": null,
            "grid_auto_columns": null,
            "grid_auto_flow": null,
            "grid_auto_rows": null,
            "grid_column": null,
            "grid_gap": null,
            "grid_row": null,
            "grid_template_areas": null,
            "grid_template_columns": null,
            "grid_template_rows": null,
            "height": null,
            "justify_content": null,
            "justify_items": null,
            "left": null,
            "margin": null,
            "max_height": null,
            "max_width": null,
            "min_height": null,
            "min_width": null,
            "object_fit": null,
            "object_position": null,
            "order": null,
            "overflow": null,
            "overflow_x": null,
            "overflow_y": null,
            "padding": null,
            "right": null,
            "top": null,
            "visibility": null,
            "width": null
          }
        },
        "b2919391c1ae402d992c68f31f2c865a": {
          "model_module": "@jupyter-widgets/controls",
          "model_name": "DescriptionStyleModel",
          "model_module_version": "1.5.0",
          "state": {
            "_model_module": "@jupyter-widgets/controls",
            "_model_module_version": "1.5.0",
            "_model_name": "DescriptionStyleModel",
            "_view_count": null,
            "_view_module": "@jupyter-widgets/base",
            "_view_module_version": "1.2.0",
            "_view_name": "StyleView",
            "description_width": ""
          }
        }
      }
    }
  },
  "cells": [
    {
      "cell_type": "markdown",
      "metadata": {
        "id": "view-in-github",
        "colab_type": "text"
      },
      "source": [
        "<a href=\"https://colab.research.google.com/github/elichen/aoc2017/blob/main/Day_25_The_Halting_Problem.ipynb\" target=\"_parent\"><img src=\"https://colab.research.google.com/assets/colab-badge.svg\" alt=\"Open In Colab\"/></a>"
      ]
    },
    {
      "cell_type": "code",
      "execution_count": 1,
      "metadata": {
        "id": "lo7dKfyQZm64"
      },
      "outputs": [],
      "source": [
        "data = \"\"\"Begin in state A.\n",
        "Perform a diagnostic checksum after 6 steps.\n",
        "\n",
        "In state A:\n",
        "  If the current value is 0:\n",
        "    - Write the value 1.\n",
        "    - Move one slot to the right.\n",
        "    - Continue with state B.\n",
        "  If the current value is 1:\n",
        "    - Write the value 0.\n",
        "    - Move one slot to the left.\n",
        "    - Continue with state B.\n",
        "\n",
        "In state B:\n",
        "  If the current value is 0:\n",
        "    - Write the value 1.\n",
        "    - Move one slot to the left.\n",
        "    - Continue with state A.\n",
        "  If the current value is 1:\n",
        "    - Write the value 1.\n",
        "    - Move one slot to the right.\n",
        "    - Continue with state A.\"\"\".split('\\n')"
      ]
    },
    {
      "cell_type": "code",
      "source": [
        "data = [x.rstrip() for x in open(\"input.txt\").readlines()]"
      ],
      "metadata": {
        "id": "W-9ohkpxcLG0"
      },
      "execution_count": 19,
      "outputs": []
    },
    {
      "cell_type": "code",
      "source": [
        "def parse_instructions(instructions):\n",
        "    # Initialize the machine's instructions\n",
        "    machine = {}\n",
        "    current_state = None\n",
        "\n",
        "    for line in instructions:\n",
        "        if line.startswith(\"In state\"):\n",
        "            current_state = line.split(\" \")[2][:-1]\n",
        "            machine[current_state] = {}\n",
        "        elif line.strip().startswith(\"If the current value is\"):\n",
        "            current_value = int(line.strip().split(\" \")[5][:-1])\n",
        "            machine[current_state][current_value] = []\n",
        "        elif line.strip().startswith(\"- \"):\n",
        "            action = line.strip()[2:]\n",
        "            machine[current_state][current_value].append(action)\n",
        "\n",
        "    return machine\n",
        "\n",
        "from tqdm.notebook import tqdm\n",
        "\n",
        "def execute_machine(instructions, steps):\n",
        "    machine = parse_instructions(instructions)\n",
        "    tape = [0] * steps  # Assuming tape size based on steps for simplicity\n",
        "    cursor = steps // 2  # Start in the middle of the tape\n",
        "    state = 'A'\n",
        "\n",
        "    for _ in tqdm(range(steps)):\n",
        "        current_value = tape[cursor]\n",
        "        actions = machine[state][current_value]\n",
        "        # print(tape, cursor, state, actions)\n",
        "\n",
        "        for action in actions:\n",
        "            if action.startswith(\"Write the value\"):\n",
        "                tape[cursor] = int(action.split(\" \")[3][:-1])\n",
        "            elif action.startswith(\"Move one slot to\"):\n",
        "                direction = action.split(\" \")[-1]\n",
        "                cursor += 1 if direction == \"right.\" else -1\n",
        "            elif action.startswith(\"Continue with state\"):\n",
        "                state = action.split(\" \")[3][:-1]\n",
        "\n",
        "    return tape\n",
        "\n",
        "execute_machine(data, 12586542).count(1)"
      ],
      "metadata": {
        "colab": {
          "base_uri": "https://localhost:8080/",
          "height": 67,
          "referenced_widgets": [
            "0951fc3a881c4dafb206ddb79366149c",
            "89f98df3da5b46a4b7618043d8092f85",
            "c35e2d5c7a9844ce918e2376f92dd2cb",
            "8000c27bcf3441fc907f855a0982ccbb",
            "c4f5a69cca694c27a4e1c254cc9d3ba5",
            "fd21581affc5483591c157775762612b",
            "c18f012618bd458e813c57ed818fdf53",
            "144845b1a7b945779cd6951a381303eb",
            "f7e586f515f64094bd8244da2f04994e",
            "1f565cfa24044bc6888eaac9916e804c",
            "b2919391c1ae402d992c68f31f2c865a"
          ]
        },
        "id": "rXj4gqGbZ39o",
        "outputId": "10eb173c-06ee-4dfc-8449-b0ff0dcd4a0b"
      },
      "execution_count": 22,
      "outputs": [
        {
          "output_type": "display_data",
          "data": {
            "text/plain": [
              "  0%|          | 0/12586542 [00:00<?, ?it/s]"
            ],
            "application/vnd.jupyter.widget-view+json": {
              "version_major": 2,
              "version_minor": 0,
              "model_id": "0951fc3a881c4dafb206ddb79366149c"
            }
          },
          "metadata": {}
        },
        {
          "output_type": "execute_result",
          "data": {
            "text/plain": [
              "3732"
            ]
          },
          "metadata": {},
          "execution_count": 22
        }
      ]
    },
    {
      "cell_type": "code",
      "source": [],
      "metadata": {
        "id": "qRI5pj9jcN2k"
      },
      "execution_count": null,
      "outputs": []
    }
  ]
}
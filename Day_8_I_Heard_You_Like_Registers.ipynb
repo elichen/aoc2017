{
  "nbformat": 4,
  "nbformat_minor": 0,
  "metadata": {
    "colab": {
      "provenance": [],
      "authorship_tag": "ABX9TyOhRi80ngfHI+jLogZslsgS",
      "include_colab_link": true
    },
    "kernelspec": {
      "name": "python3",
      "display_name": "Python 3"
    },
    "language_info": {
      "name": "python"
    }
  },
  "cells": [
    {
      "cell_type": "markdown",
      "metadata": {
        "id": "view-in-github",
        "colab_type": "text"
      },
      "source": [
        "<a href=\"https://colab.research.google.com/github/elichen/aoc2017/blob/main/Day_8_I_Heard_You_Like_Registers.ipynb\" target=\"_parent\"><img src=\"https://colab.research.google.com/assets/colab-badge.svg\" alt=\"Open In Colab\"/></a>"
      ]
    },
    {
      "cell_type": "code",
      "execution_count": 17,
      "metadata": {
        "id": "6OWXmv7V4eUO"
      },
      "outputs": [],
      "source": [
        "data = \"\"\"b inc 5 if a > 1\n",
        "a inc 1 if b < 5\n",
        "c dec -10 if a >= 1\n",
        "c inc -20 if c == 10\"\"\".split('\\n')"
      ]
    },
    {
      "cell_type": "code",
      "source": [
        "data = [x.rstrip() for x in open(\"input.txt\").readlines()]"
      ],
      "metadata": {
        "id": "Ju0lXFDs5SMc"
      },
      "execution_count": 18,
      "outputs": []
    },
    {
      "cell_type": "code",
      "source": [
        "def process_instructions(instructions):\n",
        "    # Initialize registers\n",
        "    registers = {}\n",
        "\n",
        "    for instr in instructions:\n",
        "        parts = instr.split()\n",
        "\n",
        "        # Extract components from instruction\n",
        "        reg_to_modify = parts[0]\n",
        "        operation = parts[1]\n",
        "        amount = int(parts[2])\n",
        "        condition_reg = parts[4]\n",
        "        condition_op = parts[5]\n",
        "        condition_val = int(parts[6])\n",
        "\n",
        "        # Initialize register if not present\n",
        "        registers.setdefault(reg_to_modify, 0)\n",
        "        registers.setdefault(condition_reg, 0)\n",
        "\n",
        "        # Check condition\n",
        "        condition = False\n",
        "        if condition_op == '>':\n",
        "            condition = registers[condition_reg] > condition_val\n",
        "        elif condition_op == '<':\n",
        "            condition = registers[condition_reg] < condition_val\n",
        "        elif condition_op == '>=':\n",
        "            condition = registers[condition_reg] >= condition_val\n",
        "        elif condition_op == '<=':\n",
        "            condition = registers[condition_reg] <= condition_val\n",
        "        elif condition_op == '==':\n",
        "            condition = registers[condition_reg] == condition_val\n",
        "        elif condition_op == '!=':\n",
        "            condition = registers[condition_reg] != condition_val\n",
        "\n",
        "        # Modify register if condition is met\n",
        "        if condition:\n",
        "            if operation == 'inc':\n",
        "                registers[reg_to_modify] += amount\n",
        "            elif operation == 'dec':\n",
        "                registers[reg_to_modify] -= amount\n",
        "\n",
        "    return registers\n",
        "\n",
        "rs = process_instructions(data)"
      ],
      "metadata": {
        "id": "ABBQ-YHa4iiG"
      },
      "execution_count": 19,
      "outputs": []
    },
    {
      "cell_type": "code",
      "source": [
        "max(rs.values())"
      ],
      "metadata": {
        "colab": {
          "base_uri": "https://localhost:8080/"
        },
        "id": "EnDyjasf5aDD",
        "outputId": "efecefc2-0540-48ce-b0dc-d02c9f0ff7cf"
      },
      "execution_count": 20,
      "outputs": [
        {
          "output_type": "execute_result",
          "data": {
            "text/plain": [
              "5966"
            ]
          },
          "metadata": {},
          "execution_count": 20
        }
      ]
    },
    {
      "cell_type": "code",
      "source": [
        "def process_instructions_with_highest_value(instructions):\n",
        "    # Initialize registers\n",
        "    registers = {}\n",
        "    highest_value = 0\n",
        "\n",
        "    for instr in instructions:\n",
        "        parts = instr.split()\n",
        "\n",
        "        # Extract components from instruction\n",
        "        reg_to_modify = parts[0]\n",
        "        operation = parts[1]\n",
        "        amount = int(parts[2])\n",
        "        condition_reg = parts[4]\n",
        "        condition_op = parts[5]\n",
        "        condition_val = int(parts[6])\n",
        "\n",
        "        # Initialize register if not present\n",
        "        registers.setdefault(reg_to_modify, 0)\n",
        "        registers.setdefault(condition_reg, 0)\n",
        "\n",
        "        # Check condition\n",
        "        condition = False\n",
        "        if condition_op == '>':\n",
        "            condition = registers[condition_reg] > condition_val\n",
        "        elif condition_op == '<':\n",
        "            condition = registers[condition_reg] < condition_val\n",
        "        elif condition_op == '>=':\n",
        "            condition = registers[condition_reg] >= condition_val\n",
        "        elif condition_op == '<=':\n",
        "            condition = registers[condition_reg] <= condition_val\n",
        "        elif condition_op == '==':\n",
        "            condition = registers[condition_reg] == condition_val\n",
        "        elif condition_op == '!=':\n",
        "            condition = registers[condition_reg] != condition_val\n",
        "\n",
        "        # Modify register if condition is met\n",
        "        if condition:\n",
        "            if operation == 'inc':\n",
        "                registers[reg_to_modify] += amount\n",
        "            elif operation == 'dec':\n",
        "                registers[reg_to_modify] -= amount\n",
        "\n",
        "            # Update highest value if needed\n",
        "            highest_value = max(highest_value, registers[reg_to_modify])\n",
        "\n",
        "    return highest_value\n",
        "\n",
        "# Test the function with the provided instructions\n",
        "process_instructions_with_highest_value(data)"
      ],
      "metadata": {
        "colab": {
          "base_uri": "https://localhost:8080/"
        },
        "id": "KxuiS-kV5wcE",
        "outputId": "2f2b8fe1-8ab7-4696-a8e2-c4743bb98abf"
      },
      "execution_count": 21,
      "outputs": [
        {
          "output_type": "execute_result",
          "data": {
            "text/plain": [
              "6347"
            ]
          },
          "metadata": {},
          "execution_count": 21
        }
      ]
    }
  ]
}
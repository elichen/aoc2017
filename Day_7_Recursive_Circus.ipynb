{
  "nbformat": 4,
  "nbformat_minor": 0,
  "metadata": {
    "colab": {
      "provenance": [],
      "authorship_tag": "ABX9TyMNbTTLO1BJrH5qPzKmgw0d",
      "include_colab_link": true
    },
    "kernelspec": {
      "name": "python3",
      "display_name": "Python 3"
    },
    "language_info": {
      "name": "python"
    }
  },
  "cells": [
    {
      "cell_type": "markdown",
      "metadata": {
        "id": "view-in-github",
        "colab_type": "text"
      },
      "source": [
        "<a href=\"https://colab.research.google.com/github/elichen/aoc2017/blob/main/Day_7_Recursive_Circus.ipynb\" target=\"_parent\"><img src=\"https://colab.research.google.com/assets/colab-badge.svg\" alt=\"Open In Colab\"/></a>"
      ]
    },
    {
      "cell_type": "code",
      "execution_count": 34,
      "metadata": {
        "id": "WOOMuHrSD2BL"
      },
      "outputs": [],
      "source": [
        "data = \"\"\"pbga (66)\n",
        "xhth (57)\n",
        "ebii (61)\n",
        "havc (66)\n",
        "ktlj (57)\n",
        "fwft (72) -> ktlj, cntj, xhth\n",
        "qoyq (66)\n",
        "padx (45) -> pbga, havc, qoyq\n",
        "tknk (41) -> ugml, padx, fwft\n",
        "jptl (61)\n",
        "ugml (68) -> gyxo, ebii, jptl\n",
        "gyxo (61)\n",
        "cntj (57)\"\"\".split('\\n')"
      ]
    },
    {
      "cell_type": "code",
      "source": [
        "data = [x.rstrip() for x in open(\"input.txt\").readlines()]"
      ],
      "metadata": {
        "id": "1xqXUbfAF--u"
      },
      "execution_count": 35,
      "outputs": []
    },
    {
      "cell_type": "code",
      "source": [
        "# Process the input to create the desired dictionary\n",
        "right_to_left_map = {}\n",
        "for program in data:\n",
        "    if '->' in program:\n",
        "        left, right = program.split(' -> ')\n",
        "        left = left.split()[0]\n",
        "        right_items = right.split(', ')\n",
        "        for item in right_items:\n",
        "            right_to_left_map[item] = left"
      ],
      "metadata": {
        "id": "gnQqjp77D9S_"
      },
      "execution_count": 36,
      "outputs": []
    },
    {
      "cell_type": "code",
      "source": [
        "from collections import Counter\n",
        "\n",
        "counts = Counter()\n",
        "for x in right_to_left_map.keys():\n",
        "  depth = 0\n",
        "  curr = x\n",
        "  while curr in right_to_left_map:\n",
        "    depth += 1\n",
        "    curr = right_to_left_map[curr]\n",
        "    if depth > counts[curr]: counts[curr] = depth\n",
        "counts.most_common()[0]"
      ],
      "metadata": {
        "colab": {
          "base_uri": "https://localhost:8080/"
        },
        "id": "3dPY3xfEE9eV",
        "outputId": "b51855d7-53bc-4085-b370-6db59dca0fdc"
      },
      "execution_count": 37,
      "outputs": [
        {
          "output_type": "execute_result",
          "data": {
            "text/plain": [
              "('vgzejbd', 5)"
            ]
          },
          "metadata": {},
          "execution_count": 37
        }
      ]
    },
    {
      "cell_type": "code",
      "source": [],
      "metadata": {
        "id": "1aPB6G_bGEwy"
      },
      "execution_count": 37,
      "outputs": []
    }
  ]
}
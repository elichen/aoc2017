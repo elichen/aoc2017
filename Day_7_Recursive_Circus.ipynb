{
  "nbformat": 4,
  "nbformat_minor": 0,
  "metadata": {
    "colab": {
      "provenance": [],
      "authorship_tag": "ABX9TyPkCPU+s7BM9rpBW2u9uSao",
      "include_colab_link": true
    },
    "kernelspec": {
      "name": "python3",
      "display_name": "Python 3"
    },
    "language_info": {
      "name": "python"
    }
  },
  "cells": [
    {
      "cell_type": "markdown",
      "metadata": {
        "id": "view-in-github",
        "colab_type": "text"
      },
      "source": [
        "<a href=\"https://colab.research.google.com/github/elichen/aoc2017/blob/main/Day_7_Recursive_Circus.ipynb\" target=\"_parent\"><img src=\"https://colab.research.google.com/assets/colab-badge.svg\" alt=\"Open In Colab\"/></a>"
      ]
    },
    {
      "cell_type": "code",
      "execution_count": 93,
      "metadata": {
        "id": "WOOMuHrSD2BL"
      },
      "outputs": [],
      "source": [
        "data = \"\"\"pbga (66)\n",
        "xhth (57)\n",
        "ebii (61)\n",
        "havc (66)\n",
        "ktlj (57)\n",
        "fwft (72) -> ktlj, cntj, xhth\n",
        "qoyq (66)\n",
        "padx (45) -> pbga, havc, qoyq\n",
        "tknk (41) -> ugml, padx, fwft\n",
        "jptl (61)\n",
        "ugml (68) -> gyxo, ebii, jptl\n",
        "gyxo (61)\n",
        "cntj (57)\"\"\".split('\\n')"
      ]
    },
    {
      "cell_type": "code",
      "source": [
        "data = [x.rstrip() for x in open(\"input.txt\").readlines()]"
      ],
      "metadata": {
        "id": "1xqXUbfAF--u"
      },
      "execution_count": 94,
      "outputs": []
    },
    {
      "cell_type": "code",
      "source": [
        "# Process the input to create the desired dictionary\n",
        "right_to_left_map = {}\n",
        "for program in data:\n",
        "    if '->' in program:\n",
        "        left, right = program.split(' -> ')\n",
        "        left = left.split()[0]\n",
        "        right_items = right.split(', ')\n",
        "        for item in right_items:\n",
        "            right_to_left_map[item] = left"
      ],
      "metadata": {
        "id": "gnQqjp77D9S_"
      },
      "execution_count": 95,
      "outputs": []
    },
    {
      "cell_type": "code",
      "source": [
        "from collections import Counter\n",
        "\n",
        "counts = Counter()\n",
        "for x in right_to_left_map.keys():\n",
        "  depth = 0\n",
        "  curr = x\n",
        "  while curr in right_to_left_map:\n",
        "    depth += 1\n",
        "    curr = right_to_left_map[curr]\n",
        "    if depth > counts[curr]: counts[curr] = depth\n",
        "root = counts.most_common()[0][0]\n",
        "root"
      ],
      "metadata": {
        "colab": {
          "base_uri": "https://localhost:8080/",
          "height": 35
        },
        "id": "3dPY3xfEE9eV",
        "outputId": "afbb9c20-198f-45e2-e61e-7c3521f72495"
      },
      "execution_count": 96,
      "outputs": [
        {
          "output_type": "execute_result",
          "data": {
            "text/plain": [
              "'vgzejbd'"
            ],
            "application/vnd.google.colaboratory.intrinsic+json": {
              "type": "string"
            }
          },
          "metadata": {},
          "execution_count": 96
        }
      ]
    },
    {
      "cell_type": "code",
      "source": [
        "l2r = {}\n",
        "for program in data:\n",
        "    if '->' in program:\n",
        "        left, right = program.split(' -> ')\n",
        "        left = left.split()[0]\n",
        "        right_items = right.split(', ')\n",
        "        l2r[left] = right_items"
      ],
      "metadata": {
        "id": "1aPB6G_bGEwy"
      },
      "execution_count": 97,
      "outputs": []
    },
    {
      "cell_type": "code",
      "source": [
        "# Process the input to create the desired name-to-number dictionary\n",
        "name_to_number = {}\n",
        "for program in data:\n",
        "    name, number = program.split(' (')\n",
        "    number = int(number.split(')')[0])\n",
        "    name_to_number[name] = number"
      ],
      "metadata": {
        "id": "v-6UN8lVIiDQ"
      },
      "execution_count": 98,
      "outputs": []
    },
    {
      "cell_type": "code",
      "source": [
        "def weight(node):\n",
        "  total = name_to_number[node]\n",
        "  if node in l2r:\n",
        "    total += sum([weight(x) for x in l2r[node]])\n",
        "  return total"
      ],
      "metadata": {
        "id": "Z_ITdvuLI39J"
      },
      "execution_count": 99,
      "outputs": []
    },
    {
      "cell_type": "code",
      "source": [
        "curr = root\n",
        "while True:\n",
        "  children = l2r[curr]\n",
        "  weights = [weight(x) for x in children]\n",
        "  if all(weight(x) == weight(children[0]) for x in children):\n",
        "    print(curr, name_to_number[curr]+diff)\n",
        "    break\n",
        "  odd = Counter(weights).most_common()[-1][0]\n",
        "  diff = Counter(weights).most_common()[0][0] - odd\n",
        "  curr = children[weights.index(odd)]"
      ],
      "metadata": {
        "colab": {
          "base_uri": "https://localhost:8080/"
        },
        "id": "cg83_Rl5JsjJ",
        "outputId": "8d85fc92-3557-49cc-9f11-0f0fb0f55631"
      },
      "execution_count": 100,
      "outputs": [
        {
          "output_type": "stream",
          "name": "stdout",
          "text": [
            "kiatxq 1226\n"
          ]
        }
      ]
    }
  ]
}
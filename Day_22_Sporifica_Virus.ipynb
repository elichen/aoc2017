{
  "nbformat": 4,
  "nbformat_minor": 0,
  "metadata": {
    "colab": {
      "provenance": [],
      "authorship_tag": "ABX9TyPONZSXBE/oyMO0kRuRlA8H",
      "include_colab_link": true
    },
    "kernelspec": {
      "name": "python3",
      "display_name": "Python 3"
    },
    "language_info": {
      "name": "python"
    },
    "widgets": {
      "application/vnd.jupyter.widget-state+json": {
        "52b699c6a79e4eea8d33ac932fda515e": {
          "model_module": "@jupyter-widgets/controls",
          "model_name": "HBoxModel",
          "model_module_version": "1.5.0",
          "state": {
            "_dom_classes": [],
            "_model_module": "@jupyter-widgets/controls",
            "_model_module_version": "1.5.0",
            "_model_name": "HBoxModel",
            "_view_count": null,
            "_view_module": "@jupyter-widgets/controls",
            "_view_module_version": "1.5.0",
            "_view_name": "HBoxView",
            "box_style": "",
            "children": [
              "IPY_MODEL_f321400c6614408d9c0b1f82922d7080",
              "IPY_MODEL_5bd33eaa765046f7b3b518e317f1cb94",
              "IPY_MODEL_f2b38b241059483398c530c85f2f8b0d"
            ],
            "layout": "IPY_MODEL_648154da3c164151a6344aadb7c6a67b"
          }
        },
        "f321400c6614408d9c0b1f82922d7080": {
          "model_module": "@jupyter-widgets/controls",
          "model_name": "HTMLModel",
          "model_module_version": "1.5.0",
          "state": {
            "_dom_classes": [],
            "_model_module": "@jupyter-widgets/controls",
            "_model_module_version": "1.5.0",
            "_model_name": "HTMLModel",
            "_view_count": null,
            "_view_module": "@jupyter-widgets/controls",
            "_view_module_version": "1.5.0",
            "_view_name": "HTMLView",
            "description": "",
            "description_tooltip": null,
            "layout": "IPY_MODEL_c668a07dea774c83a34b85f84121447e",
            "placeholder": "​",
            "style": "IPY_MODEL_8daaee7b51ca4c19bc74bb73f9b9f993",
            "value": "100%"
          }
        },
        "5bd33eaa765046f7b3b518e317f1cb94": {
          "model_module": "@jupyter-widgets/controls",
          "model_name": "FloatProgressModel",
          "model_module_version": "1.5.0",
          "state": {
            "_dom_classes": [],
            "_model_module": "@jupyter-widgets/controls",
            "_model_module_version": "1.5.0",
            "_model_name": "FloatProgressModel",
            "_view_count": null,
            "_view_module": "@jupyter-widgets/controls",
            "_view_module_version": "1.5.0",
            "_view_name": "ProgressView",
            "bar_style": "success",
            "description": "",
            "description_tooltip": null,
            "layout": "IPY_MODEL_4267c2abfee148b989075524850c1cf2",
            "max": 10000000,
            "min": 0,
            "orientation": "horizontal",
            "style": "IPY_MODEL_6761715420a346b1a36e17fdd2b98d4e",
            "value": 10000000
          }
        },
        "f2b38b241059483398c530c85f2f8b0d": {
          "model_module": "@jupyter-widgets/controls",
          "model_name": "HTMLModel",
          "model_module_version": "1.5.0",
          "state": {
            "_dom_classes": [],
            "_model_module": "@jupyter-widgets/controls",
            "_model_module_version": "1.5.0",
            "_model_name": "HTMLModel",
            "_view_count": null,
            "_view_module": "@jupyter-widgets/controls",
            "_view_module_version": "1.5.0",
            "_view_name": "HTMLView",
            "description": "",
            "description_tooltip": null,
            "layout": "IPY_MODEL_888df394f1964b4cad26e5b4c6e35c69",
            "placeholder": "​",
            "style": "IPY_MODEL_8544aea7f22d4b5a9c110b3ef7833eb2",
            "value": " 10000000/10000000 [00:22&lt;00:00, 479114.91it/s]"
          }
        },
        "648154da3c164151a6344aadb7c6a67b": {
          "model_module": "@jupyter-widgets/base",
          "model_name": "LayoutModel",
          "model_module_version": "1.2.0",
          "state": {
            "_model_module": "@jupyter-widgets/base",
            "_model_module_version": "1.2.0",
            "_model_name": "LayoutModel",
            "_view_count": null,
            "_view_module": "@jupyter-widgets/base",
            "_view_module_version": "1.2.0",
            "_view_name": "LayoutView",
            "align_content": null,
            "align_items": null,
            "align_self": null,
            "border": null,
            "bottom": null,
            "display": null,
            "flex": null,
            "flex_flow": null,
            "grid_area": null,
            "grid_auto_columns": null,
            "grid_auto_flow": null,
            "grid_auto_rows": null,
            "grid_column": null,
            "grid_gap": null,
            "grid_row": null,
            "grid_template_areas": null,
            "grid_template_columns": null,
            "grid_template_rows": null,
            "height": null,
            "justify_content": null,
            "justify_items": null,
            "left": null,
            "margin": null,
            "max_height": null,
            "max_width": null,
            "min_height": null,
            "min_width": null,
            "object_fit": null,
            "object_position": null,
            "order": null,
            "overflow": null,
            "overflow_x": null,
            "overflow_y": null,
            "padding": null,
            "right": null,
            "top": null,
            "visibility": null,
            "width": null
          }
        },
        "c668a07dea774c83a34b85f84121447e": {
          "model_module": "@jupyter-widgets/base",
          "model_name": "LayoutModel",
          "model_module_version": "1.2.0",
          "state": {
            "_model_module": "@jupyter-widgets/base",
            "_model_module_version": "1.2.0",
            "_model_name": "LayoutModel",
            "_view_count": null,
            "_view_module": "@jupyter-widgets/base",
            "_view_module_version": "1.2.0",
            "_view_name": "LayoutView",
            "align_content": null,
            "align_items": null,
            "align_self": null,
            "border": null,
            "bottom": null,
            "display": null,
            "flex": null,
            "flex_flow": null,
            "grid_area": null,
            "grid_auto_columns": null,
            "grid_auto_flow": null,
            "grid_auto_rows": null,
            "grid_column": null,
            "grid_gap": null,
            "grid_row": null,
            "grid_template_areas": null,
            "grid_template_columns": null,
            "grid_template_rows": null,
            "height": null,
            "justify_content": null,
            "justify_items": null,
            "left": null,
            "margin": null,
            "max_height": null,
            "max_width": null,
            "min_height": null,
            "min_width": null,
            "object_fit": null,
            "object_position": null,
            "order": null,
            "overflow": null,
            "overflow_x": null,
            "overflow_y": null,
            "padding": null,
            "right": null,
            "top": null,
            "visibility": null,
            "width": null
          }
        },
        "8daaee7b51ca4c19bc74bb73f9b9f993": {
          "model_module": "@jupyter-widgets/controls",
          "model_name": "DescriptionStyleModel",
          "model_module_version": "1.5.0",
          "state": {
            "_model_module": "@jupyter-widgets/controls",
            "_model_module_version": "1.5.0",
            "_model_name": "DescriptionStyleModel",
            "_view_count": null,
            "_view_module": "@jupyter-widgets/base",
            "_view_module_version": "1.2.0",
            "_view_name": "StyleView",
            "description_width": ""
          }
        },
        "4267c2abfee148b989075524850c1cf2": {
          "model_module": "@jupyter-widgets/base",
          "model_name": "LayoutModel",
          "model_module_version": "1.2.0",
          "state": {
            "_model_module": "@jupyter-widgets/base",
            "_model_module_version": "1.2.0",
            "_model_name": "LayoutModel",
            "_view_count": null,
            "_view_module": "@jupyter-widgets/base",
            "_view_module_version": "1.2.0",
            "_view_name": "LayoutView",
            "align_content": null,
            "align_items": null,
            "align_self": null,
            "border": null,
            "bottom": null,
            "display": null,
            "flex": null,
            "flex_flow": null,
            "grid_area": null,
            "grid_auto_columns": null,
            "grid_auto_flow": null,
            "grid_auto_rows": null,
            "grid_column": null,
            "grid_gap": null,
            "grid_row": null,
            "grid_template_areas": null,
            "grid_template_columns": null,
            "grid_template_rows": null,
            "height": null,
            "justify_content": null,
            "justify_items": null,
            "left": null,
            "margin": null,
            "max_height": null,
            "max_width": null,
            "min_height": null,
            "min_width": null,
            "object_fit": null,
            "object_position": null,
            "order": null,
            "overflow": null,
            "overflow_x": null,
            "overflow_y": null,
            "padding": null,
            "right": null,
            "top": null,
            "visibility": null,
            "width": null
          }
        },
        "6761715420a346b1a36e17fdd2b98d4e": {
          "model_module": "@jupyter-widgets/controls",
          "model_name": "ProgressStyleModel",
          "model_module_version": "1.5.0",
          "state": {
            "_model_module": "@jupyter-widgets/controls",
            "_model_module_version": "1.5.0",
            "_model_name": "ProgressStyleModel",
            "_view_count": null,
            "_view_module": "@jupyter-widgets/base",
            "_view_module_version": "1.2.0",
            "_view_name": "StyleView",
            "bar_color": null,
            "description_width": ""
          }
        },
        "888df394f1964b4cad26e5b4c6e35c69": {
          "model_module": "@jupyter-widgets/base",
          "model_name": "LayoutModel",
          "model_module_version": "1.2.0",
          "state": {
            "_model_module": "@jupyter-widgets/base",
            "_model_module_version": "1.2.0",
            "_model_name": "LayoutModel",
            "_view_count": null,
            "_view_module": "@jupyter-widgets/base",
            "_view_module_version": "1.2.0",
            "_view_name": "LayoutView",
            "align_content": null,
            "align_items": null,
            "align_self": null,
            "border": null,
            "bottom": null,
            "display": null,
            "flex": null,
            "flex_flow": null,
            "grid_area": null,
            "grid_auto_columns": null,
            "grid_auto_flow": null,
            "grid_auto_rows": null,
            "grid_column": null,
            "grid_gap": null,
            "grid_row": null,
            "grid_template_areas": null,
            "grid_template_columns": null,
            "grid_template_rows": null,
            "height": null,
            "justify_content": null,
            "justify_items": null,
            "left": null,
            "margin": null,
            "max_height": null,
            "max_width": null,
            "min_height": null,
            "min_width": null,
            "object_fit": null,
            "object_position": null,
            "order": null,
            "overflow": null,
            "overflow_x": null,
            "overflow_y": null,
            "padding": null,
            "right": null,
            "top": null,
            "visibility": null,
            "width": null
          }
        },
        "8544aea7f22d4b5a9c110b3ef7833eb2": {
          "model_module": "@jupyter-widgets/controls",
          "model_name": "DescriptionStyleModel",
          "model_module_version": "1.5.0",
          "state": {
            "_model_module": "@jupyter-widgets/controls",
            "_model_module_version": "1.5.0",
            "_model_name": "DescriptionStyleModel",
            "_view_count": null,
            "_view_module": "@jupyter-widgets/base",
            "_view_module_version": "1.2.0",
            "_view_name": "StyleView",
            "description_width": ""
          }
        }
      }
    }
  },
  "cells": [
    {
      "cell_type": "markdown",
      "metadata": {
        "id": "view-in-github",
        "colab_type": "text"
      },
      "source": [
        "<a href=\"https://colab.research.google.com/github/elichen/aoc2017/blob/main/Day_22_Sporifica_Virus.ipynb\" target=\"_parent\"><img src=\"https://colab.research.google.com/assets/colab-badge.svg\" alt=\"Open In Colab\"/></a>"
      ]
    },
    {
      "cell_type": "code",
      "execution_count": 73,
      "metadata": {
        "id": "QcJvFCZlPxl2"
      },
      "outputs": [],
      "source": [
        "data = \"\"\"..#\n",
        "#..\n",
        "...\"\"\".split('\\n')"
      ]
    },
    {
      "cell_type": "code",
      "source": [
        "data = \"\"\"...#.##.#.#.#.#..##.###.#\n",
        "......##.....#####..#.#.#\n",
        "#..####.######.#.#.##...#\n",
        "...##..####........#.#.#.\n",
        ".#.#####..#.....#######..\n",
        ".#...#.#.##.#.#.....#....\n",
        ".#.#.#.#.#####.#.#..#...#\n",
        "###..##.###.#.....#...#.#\n",
        "#####..#.....###.....####\n",
        "#.##............###.#.###\n",
        "#...###.....#.#.##.#..#.#\n",
        ".#.###.##..#####.....####\n",
        ".#...#..#..###.##..#....#\n",
        "##.##...###....##.###.##.\n",
        "#.##.###.#.#........#.#..\n",
        "##......#..###.#######.##\n",
        ".#####.##..#..#....##.##.\n",
        "###..#...#..#.##..#.....#\n",
        "##..#.###.###.#...##...#.\n",
        "##..##..##.###..#.##..#..\n",
        "...#.#.###..#....##.##.#.\n",
        "##.##..####..##.##.##.##.\n",
        "#...####.######.#...##...\n",
        ".###..##.##..##.####....#\n",
        "#.##....#.#.#..#.###..##.\"\"\".split('\\n')"
      ],
      "metadata": {
        "id": "-RJJ5w2rO4I-"
      },
      "execution_count": 74,
      "outputs": []
    },
    {
      "cell_type": "code",
      "source": [
        "import numpy as np\n",
        "\n",
        "def set_in_center(arr, patterns, val):\n",
        "    arr_rows, arr_cols = arr.shape\n",
        "    pat_rows, pat_cols = len(patterns), len(patterns[0])\n",
        "\n",
        "    # Calculate the starting row and column to center the patterns\n",
        "    start_row = (arr_rows - pat_rows) // 2\n",
        "    start_col = (arr_cols - pat_cols) // 2\n",
        "\n",
        "    # Loop over each pattern and update the array\n",
        "    for i, pattern in enumerate(patterns):\n",
        "        for j, char in enumerate(pattern):\n",
        "            if char == '#':\n",
        "                arr[start_row + i, start_col + j] = val\n",
        "\n",
        "    return arr"
      ],
      "metadata": {
        "id": "7ZUCJo-lQx-m"
      },
      "execution_count": 75,
      "outputs": []
    },
    {
      "cell_type": "code",
      "source": [
        "dir_delta = [(-1,0),(0,1),(1,0),(0,-1)] # up, right, down, left\n",
        "def burst(m, pos, dir):\n",
        "  if m[pos]:\n",
        "    dir = (dir+1)%4\n",
        "  else:\n",
        "    dir = (dir-1)%4\n",
        "  m[pos] = not m[pos]\n",
        "  infected = m[pos] == 1\n",
        "  drow,dcol = dir_delta[dir]\n",
        "  return (pos[0]+drow,pos[1]+dcol), dir, infected\n",
        "\n",
        "m_size = 1001\n",
        "m = np.zeros((m_size,m_size)) # Initialize the array with zeros\n",
        "m = set_in_center(m, data, 1)\n",
        "pos = (m_size//2,m_size//2)\n",
        "dir = 0\n",
        "\n",
        "total = 0\n",
        "for _ in range(10000):\n",
        "  pos,dir,infected = burst(m, pos, dir)\n",
        "  if infected: total += 1\n",
        "total"
      ],
      "metadata": {
        "colab": {
          "base_uri": "https://localhost:8080/"
        },
        "id": "XWMsOFslRZVJ",
        "outputId": "d93a7f22-016e-4837-f415-d2403227385f"
      },
      "execution_count": 76,
      "outputs": [
        {
          "output_type": "execute_result",
          "data": {
            "text/plain": [
              "5406"
            ]
          },
          "metadata": {},
          "execution_count": 76
        }
      ]
    },
    {
      "cell_type": "code",
      "source": [
        "dir_delta = [(-1,0),(0,1),(1,0),(0,-1)] # up, right, down, left\n",
        "# states: 0 - clean, 1 - weakened, 2 - infected, 3 - flagged\n",
        "def burst(m, pos, dir):\n",
        "  if m[pos] == 0:\n",
        "    dir = (dir-1)%4\n",
        "  elif m[pos] == 2:\n",
        "    dir = (dir+1)%4\n",
        "  elif m[pos] == 3:\n",
        "    dir = (dir+2)%4\n",
        "  m[pos] = (m[pos]+1)%4\n",
        "  infected = m[pos] == 2\n",
        "  drow,dcol = dir_delta[dir]\n",
        "  return (pos[0]+drow,pos[1]+dcol), dir, infected\n",
        "\n",
        "from tqdm.notebook import tqdm\n",
        "\n",
        "m_size = 1001\n",
        "m = np.zeros((m_size,m_size)) # Initialize the array with zeros\n",
        "m = set_in_center(m, data, 2)\n",
        "pos = (m_size//2,m_size//2)\n",
        "dir = 0\n",
        "\n",
        "total = 0\n",
        "for _ in tqdm(range(10000000)):\n",
        "  pos,dir,infected = burst(m, pos, dir)\n",
        "  if infected: total += 1\n",
        "# print(pos,dir)\n",
        "# print(m)\n",
        "total"
      ],
      "metadata": {
        "colab": {
          "base_uri": "https://localhost:8080/",
          "height": 67,
          "referenced_widgets": [
            "52b699c6a79e4eea8d33ac932fda515e",
            "f321400c6614408d9c0b1f82922d7080",
            "5bd33eaa765046f7b3b518e317f1cb94",
            "f2b38b241059483398c530c85f2f8b0d",
            "648154da3c164151a6344aadb7c6a67b",
            "c668a07dea774c83a34b85f84121447e",
            "8daaee7b51ca4c19bc74bb73f9b9f993",
            "4267c2abfee148b989075524850c1cf2",
            "6761715420a346b1a36e17fdd2b98d4e",
            "888df394f1964b4cad26e5b4c6e35c69",
            "8544aea7f22d4b5a9c110b3ef7833eb2"
          ]
        },
        "id": "OWx6-fD8O5s7",
        "outputId": "c479582d-5387-4e1d-9ce7-77105586f5ab"
      },
      "execution_count": 77,
      "outputs": [
        {
          "output_type": "display_data",
          "data": {
            "text/plain": [
              "  0%|          | 0/10000000 [00:00<?, ?it/s]"
            ],
            "application/vnd.jupyter.widget-view+json": {
              "version_major": 2,
              "version_minor": 0,
              "model_id": "52b699c6a79e4eea8d33ac932fda515e"
            }
          },
          "metadata": {}
        },
        {
          "output_type": "execute_result",
          "data": {
            "text/plain": [
              "2511640"
            ]
          },
          "metadata": {},
          "execution_count": 77
        }
      ]
    }
  ]
}
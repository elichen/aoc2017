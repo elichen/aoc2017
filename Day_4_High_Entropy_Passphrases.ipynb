{
  "nbformat": 4,
  "nbformat_minor": 0,
  "metadata": {
    "colab": {
      "provenance": [],
      "authorship_tag": "ABX9TyOZo0oQgjMWKY7I4ScC/x51",
      "include_colab_link": true
    },
    "kernelspec": {
      "name": "python3",
      "display_name": "Python 3"
    },
    "language_info": {
      "name": "python"
    }
  },
  "cells": [
    {
      "cell_type": "markdown",
      "metadata": {
        "id": "view-in-github",
        "colab_type": "text"
      },
      "source": [
        "<a href=\"https://colab.research.google.com/github/elichen/aoc2017/blob/main/Day_4_High_Entropy_Passphrases.ipynb\" target=\"_parent\"><img src=\"https://colab.research.google.com/assets/colab-badge.svg\" alt=\"Open In Colab\"/></a>"
      ]
    },
    {
      "cell_type": "code",
      "execution_count": 25,
      "metadata": {
        "id": "a1T2IJSBLOcC"
      },
      "outputs": [],
      "source": [
        "data = \"\"\"abcde xyz ecdab\n",
        "iiii oiii ooii oooi oooo\"\"\".split('\\n')"
      ]
    },
    {
      "cell_type": "code",
      "source": [
        "data = [x.rstrip() for x in open(\"input.txt\").readlines()]"
      ],
      "metadata": {
        "id": "Y29Bk8DIL1jH"
      },
      "execution_count": 26,
      "outputs": []
    },
    {
      "cell_type": "code",
      "source": [
        "def is_valid(s):\n",
        "  d = set()\n",
        "  for w in s.split():\n",
        "    if w in d:\n",
        "      return False\n",
        "    d.add(w)\n",
        "  return True\n",
        "\n",
        "total = 0\n",
        "for line in data:\n",
        "  if is_valid(line): total += 1\n",
        "total"
      ],
      "metadata": {
        "colab": {
          "base_uri": "https://localhost:8080/"
        },
        "id": "_phM79LqLZfq",
        "outputId": "eb19b73d-a122-4afa-fbf6-61bbc8567cf2"
      },
      "execution_count": 27,
      "outputs": [
        {
          "output_type": "execute_result",
          "data": {
            "text/plain": [
              "386"
            ]
          },
          "metadata": {},
          "execution_count": 27
        }
      ]
    },
    {
      "cell_type": "code",
      "source": [
        "from collections import Counter\n",
        "\n",
        "def contains_anagram(line):\n",
        "  l = line.split()\n",
        "  for i in range(len(l)):\n",
        "    for j in range(len(l)):\n",
        "      if i != j and Counter(l[i]) == Counter(l[j]):\n",
        "        return True\n",
        "  return False\n",
        "\n",
        "\n",
        "total = 0\n",
        "for line in data:\n",
        "  if not is_valid(line): continue\n",
        "  if contains_anagram(line): continue\n",
        "  total += 1\n",
        "total"
      ],
      "metadata": {
        "colab": {
          "base_uri": "https://localhost:8080/"
        },
        "id": "IBrs-51TL4fU",
        "outputId": "bd141922-ec15-450b-bde8-964705b32fb2"
      },
      "execution_count": 28,
      "outputs": [
        {
          "output_type": "execute_result",
          "data": {
            "text/plain": [
              "208"
            ]
          },
          "metadata": {},
          "execution_count": 28
        }
      ]
    },
    {
      "cell_type": "code",
      "source": [],
      "metadata": {
        "id": "hrs4t_FmM_P3"
      },
      "execution_count": 28,
      "outputs": []
    }
  ]
}
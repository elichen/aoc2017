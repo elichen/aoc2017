{
  "nbformat": 4,
  "nbformat_minor": 0,
  "metadata": {
    "colab": {
      "provenance": [],
      "authorship_tag": "ABX9TyPyPiTN7Rfg674KyLDVXzLm",
      "include_colab_link": true
    },
    "kernelspec": {
      "name": "python3",
      "display_name": "Python 3"
    },
    "language_info": {
      "name": "python"
    }
  },
  "cells": [
    {
      "cell_type": "markdown",
      "metadata": {
        "id": "view-in-github",
        "colab_type": "text"
      },
      "source": [
        "<a href=\"https://colab.research.google.com/github/elichen/aoc2017/blob/main/Day_4_High_Entropy_Passphrases.ipynb\" target=\"_parent\"><img src=\"https://colab.research.google.com/assets/colab-badge.svg\" alt=\"Open In Colab\"/></a>"
      ]
    },
    {
      "cell_type": "code",
      "execution_count": 1,
      "metadata": {
        "id": "a1T2IJSBLOcC"
      },
      "outputs": [],
      "source": [
        "data = \"\"\"aa bb cc dd ee\n",
        "aa bb cc dd aa\n",
        "aa bb cc dd aaa\"\"\".split('\\n')"
      ]
    },
    {
      "cell_type": "code",
      "source": [
        "data = [x.rstrip() for x in open(\"input.txt\").readlines()]"
      ],
      "metadata": {
        "id": "Y29Bk8DIL1jH"
      },
      "execution_count": 4,
      "outputs": []
    },
    {
      "cell_type": "code",
      "source": [
        "def is_valid(s):\n",
        "  d = set()\n",
        "  for w in s.split():\n",
        "    if w in d:\n",
        "      return False\n",
        "    d.add(w)\n",
        "  return True\n",
        "\n",
        "total = 0\n",
        "for line in data:\n",
        "  if is_valid(line): total += 1\n",
        "total"
      ],
      "metadata": {
        "colab": {
          "base_uri": "https://localhost:8080/"
        },
        "id": "_phM79LqLZfq",
        "outputId": "45bf5a46-069f-46ba-b1ec-9eb77cc0537c"
      },
      "execution_count": 5,
      "outputs": [
        {
          "output_type": "execute_result",
          "data": {
            "text/plain": [
              "386"
            ]
          },
          "metadata": {},
          "execution_count": 5
        }
      ]
    },
    {
      "cell_type": "code",
      "source": [],
      "metadata": {
        "id": "IBrs-51TL4fU"
      },
      "execution_count": null,
      "outputs": []
    }
  ]
}
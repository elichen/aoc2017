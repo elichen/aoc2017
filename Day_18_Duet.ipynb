{
  "nbformat": 4,
  "nbformat_minor": 0,
  "metadata": {
    "colab": {
      "provenance": [],
      "authorship_tag": "ABX9TyOvgyt64w9FpTAisG4JJL4b",
      "include_colab_link": true
    },
    "kernelspec": {
      "name": "python3",
      "display_name": "Python 3"
    },
    "language_info": {
      "name": "python"
    }
  },
  "cells": [
    {
      "cell_type": "markdown",
      "metadata": {
        "id": "view-in-github",
        "colab_type": "text"
      },
      "source": [
        "<a href=\"https://colab.research.google.com/github/elichen/aoc2017/blob/main/Day_18_Duet.ipynb\" target=\"_parent\"><img src=\"https://colab.research.google.com/assets/colab-badge.svg\" alt=\"Open In Colab\"/></a>"
      ]
    },
    {
      "cell_type": "code",
      "source": [
        "data = \"\"\"set a 1\n",
        "add a 2\n",
        "mul a a\n",
        "mod a 5\n",
        "snd a\n",
        "set a 0\n",
        "rcv a\n",
        "jgz a -1\n",
        "set a 1\n",
        "jgz a -2\"\"\".split('\\n')"
      ],
      "metadata": {
        "id": "7Uvt6BvSvFyL"
      },
      "execution_count": 11,
      "outputs": []
    },
    {
      "cell_type": "code",
      "source": [
        "data = \"\"\"set i 31\n",
        "set a 1\n",
        "mul p 17\n",
        "jgz p p\n",
        "mul a 2\n",
        "add i -1\n",
        "jgz i -2\n",
        "add a -1\n",
        "set i 127\n",
        "set p 618\n",
        "mul p 8505\n",
        "mod p a\n",
        "mul p 129749\n",
        "add p 12345\n",
        "mod p a\n",
        "set b p\n",
        "mod b 10000\n",
        "snd b\n",
        "add i -1\n",
        "jgz i -9\n",
        "jgz a 3\n",
        "rcv b\n",
        "jgz b -1\n",
        "set f 0\n",
        "set i 126\n",
        "rcv a\n",
        "rcv b\n",
        "set p a\n",
        "mul p -1\n",
        "add p b\n",
        "jgz p 4\n",
        "snd a\n",
        "set a b\n",
        "jgz 1 3\n",
        "snd b\n",
        "set f 1\n",
        "add i -1\n",
        "jgz i -11\n",
        "snd a\n",
        "jgz f -16\n",
        "jgz a -19\"\"\".split('\\n')"
      ],
      "metadata": {
        "id": "2zVZdlFdvRp8"
      },
      "execution_count": 12,
      "outputs": []
    },
    {
      "cell_type": "code",
      "execution_count": 13,
      "metadata": {
        "colab": {
          "base_uri": "https://localhost:8080/"
        },
        "id": "GVlkY-EzqEqy",
        "outputId": "d68e0316-88d8-451b-8a8b-f0f8d029704f"
      },
      "outputs": [
        {
          "output_type": "stream",
          "name": "stdout",
          "text": [
            "Recovered frequency: 3423\n"
          ]
        }
      ],
      "source": [
        "class SoundMachine:\n",
        "    def __init__(self):\n",
        "        self.registers = {}\n",
        "        self.last_sound = None\n",
        "        self.instruction_pointer = 0\n",
        "\n",
        "    def get_value(self, operand):\n",
        "        try:\n",
        "            return int(operand)\n",
        "        except ValueError:\n",
        "            return self.registers.get(operand, 0)\n",
        "\n",
        "    def snd(self, X):\n",
        "        self.last_sound = self.get_value(X)\n",
        "\n",
        "    def set(self, X, Y):\n",
        "        self.registers[X] = self.get_value(Y)\n",
        "\n",
        "    def add(self, X, Y):\n",
        "        self.registers[X] = self.get_value(X) + self.get_value(Y)\n",
        "\n",
        "    def mul(self, X, Y):\n",
        "        self.registers[X] = self.get_value(X) * self.get_value(Y)\n",
        "\n",
        "    def mod(self, X, Y):\n",
        "        self.registers[X] = self.get_value(X) % self.get_value(Y)\n",
        "\n",
        "    def rcv(self, X):\n",
        "        if self.get_value(X) != 0:\n",
        "            return self.last_sound\n",
        "\n",
        "    def jgz(self, X, Y):\n",
        "        if self.get_value(X) > 0:\n",
        "            self.instruction_pointer += self.get_value(Y) - 1\n",
        "\n",
        "    def execute(self, instructions):\n",
        "        while 0 <= self.instruction_pointer < len(instructions):\n",
        "            instruction = instructions[self.instruction_pointer].split()\n",
        "            cmd = instruction[0]\n",
        "            args = instruction[1:]\n",
        "            getattr(self, cmd)(*args)\n",
        "            self.instruction_pointer += 1\n",
        "            if cmd == 'rcv' and self.rcv(args[0]) is not None:\n",
        "                print(f\"Recovered frequency: {self.rcv(args[0])}\")\n",
        "                break\n",
        "\n",
        "machine = SoundMachine()\n",
        "machine.execute(data)"
      ]
    }
  ]
}
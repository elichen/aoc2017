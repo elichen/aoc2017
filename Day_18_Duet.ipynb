{
  "nbformat": 4,
  "nbformat_minor": 0,
  "metadata": {
    "colab": {
      "provenance": [],
      "authorship_tag": "ABX9TyPhVPxEt5zZrBb/g6tQ17jZ",
      "include_colab_link": true
    },
    "kernelspec": {
      "name": "python3",
      "display_name": "Python 3"
    },
    "language_info": {
      "name": "python"
    }
  },
  "cells": [
    {
      "cell_type": "markdown",
      "metadata": {
        "id": "view-in-github",
        "colab_type": "text"
      },
      "source": [
        "<a href=\"https://colab.research.google.com/github/elichen/aoc2017/blob/main/Day_18_Duet.ipynb\" target=\"_parent\"><img src=\"https://colab.research.google.com/assets/colab-badge.svg\" alt=\"Open In Colab\"/></a>"
      ]
    },
    {
      "cell_type": "code",
      "source": [
        "data = \"\"\"snd 1\n",
        "snd 2\n",
        "snd p\n",
        "rcv a\n",
        "rcv b\n",
        "rcv c\n",
        "rcv d\n",
        "\"\"\".split('\\n')"
      ],
      "metadata": {
        "id": "7Uvt6BvSvFyL"
      },
      "execution_count": 73,
      "outputs": []
    },
    {
      "cell_type": "code",
      "source": [
        "data = \"\"\"set i 31\n",
        "set a 1\n",
        "mul p 17\n",
        "jgz p p\n",
        "mul a 2\n",
        "add i -1\n",
        "jgz i -2\n",
        "add a -1\n",
        "set i 127\n",
        "set p 618\n",
        "mul p 8505\n",
        "mod p a\n",
        "mul p 129749\n",
        "add p 12345\n",
        "mod p a\n",
        "set b p\n",
        "mod b 10000\n",
        "snd b\n",
        "add i -1\n",
        "jgz i -9\n",
        "jgz a 3\n",
        "rcv b\n",
        "jgz b -1\n",
        "set f 0\n",
        "set i 126\n",
        "rcv a\n",
        "rcv b\n",
        "set p a\n",
        "mul p -1\n",
        "add p b\n",
        "jgz p 4\n",
        "snd a\n",
        "set a b\n",
        "jgz 1 3\n",
        "snd b\n",
        "set f 1\n",
        "add i -1\n",
        "jgz i -11\n",
        "snd a\n",
        "jgz f -16\n",
        "jgz a -19\"\"\".split('\\n')"
      ],
      "metadata": {
        "id": "2zVZdlFdvRp8"
      },
      "execution_count": 78,
      "outputs": []
    },
    {
      "cell_type": "code",
      "execution_count": 79,
      "metadata": {
        "colab": {
          "base_uri": "https://localhost:8080/"
        },
        "id": "GVlkY-EzqEqy",
        "outputId": "589304bf-d078-453a-c51b-f0341264c81e"
      },
      "outputs": [
        {
          "output_type": "stream",
          "name": "stdout",
          "text": [
            "Recovered frequency: 3423\n"
          ]
        }
      ],
      "source": [
        "class SoundMachine:\n",
        "    def __init__(self):\n",
        "        self.registers = {}\n",
        "        self.last_sound = None\n",
        "        self.instruction_pointer = 0\n",
        "\n",
        "    def get_value(self, operand):\n",
        "        try:\n",
        "            return int(operand)\n",
        "        except ValueError:\n",
        "            return self.registers.get(operand, 0)\n",
        "\n",
        "    def snd(self, X):\n",
        "        self.last_sound = self.get_value(X)\n",
        "\n",
        "    def set(self, X, Y):\n",
        "        self.registers[X] = self.get_value(Y)\n",
        "\n",
        "    def add(self, X, Y):\n",
        "        self.registers[X] = self.get_value(X) + self.get_value(Y)\n",
        "\n",
        "    def mul(self, X, Y):\n",
        "        self.registers[X] = self.get_value(X) * self.get_value(Y)\n",
        "\n",
        "    def mod(self, X, Y):\n",
        "        self.registers[X] = self.get_value(X) % self.get_value(Y)\n",
        "\n",
        "    def rcv(self, X):\n",
        "        if self.get_value(X) != 0:\n",
        "            return self.last_sound\n",
        "\n",
        "    def jgz(self, X, Y):\n",
        "        if self.get_value(X) > 0:\n",
        "            self.instruction_pointer += self.get_value(Y) - 1\n",
        "\n",
        "    def execute(self, instructions):\n",
        "        while 0 <= self.instruction_pointer < len(instructions):\n",
        "            instruction = instructions[self.instruction_pointer].split()\n",
        "            cmd = instruction[0]\n",
        "            args = instruction[1:]\n",
        "            getattr(self, cmd)(*args)\n",
        "            self.instruction_pointer += 1\n",
        "            if cmd == 'rcv' and self.rcv(args[0]) is not None:\n",
        "                print(f\"Recovered frequency: {self.rcv(args[0])}\")\n",
        "                break\n",
        "\n",
        "machine = SoundMachine()\n",
        "machine.execute(data)"
      ]
    },
    {
      "cell_type": "code",
      "source": [
        "class SoundMachine:\n",
        "    def __init__(self, pid, instructions):\n",
        "        self.registers = {}\n",
        "        self.last_sound = None\n",
        "        self.instructions = instructions\n",
        "        self.instruction_pointer = 0\n",
        "        self.registers['p'] = pid\n",
        "        self.queue = []\n",
        "\n",
        "    def get_value(self, operand):\n",
        "        try:\n",
        "            return int(operand)\n",
        "        except ValueError:\n",
        "            return self.registers.get(operand, 0)\n",
        "\n",
        "    def set(self, X, Y):\n",
        "        self.registers[X] = self.get_value(Y)\n",
        "\n",
        "    def add(self, X, Y):\n",
        "        self.registers[X] = self.get_value(X) + self.get_value(Y)\n",
        "\n",
        "    def mul(self, X, Y):\n",
        "        self.registers[X] = self.get_value(X) * self.get_value(Y)\n",
        "\n",
        "    def mod(self, X, Y):\n",
        "        self.registers[X] = self.get_value(X) % self.get_value(Y)\n",
        "\n",
        "    def snd(self, X):\n",
        "        return self.get_value(X)\n",
        "\n",
        "    def rcv(self, X):\n",
        "        if len(self.queue) == 0:\n",
        "          return False\n",
        "        else:\n",
        "          self.registers[X] = self.queue.pop(0)\n",
        "          return True\n",
        "\n",
        "    def jgz(self, X, Y):\n",
        "        if self.get_value(X) > 0:\n",
        "            self.instruction_pointer += self.get_value(Y) - 1\n",
        "\n",
        "    def run(self):\n",
        "        while True:\n",
        "            instruction = self.instructions[self.instruction_pointer].split()\n",
        "            cmd = instruction[0]\n",
        "            args = instruction[1:]\n",
        "            ret = getattr(self, cmd)(*args)\n",
        "            if cmd == 'rcv' and not ret:\n",
        "              return None\n",
        "            self.instruction_pointer += 1\n",
        "            if cmd == 'snd':\n",
        "              return ret\n",
        "\n",
        "m0 = SoundMachine(0, data)\n",
        "m1 = SoundMachine(1, data)\n",
        "count1 = 0\n",
        "while True:\n",
        "  r0 = m0.run()\n",
        "  r1 = m1.run()\n",
        "  if r0 == None and r1 == None:\n",
        "    print(\"deadlock\")\n",
        "    break\n",
        "  if r0 != None:\n",
        "    m1.queue.append(r0)\n",
        "  if r1 != None:\n",
        "    count1 += 1\n",
        "    m0.queue.append(r1)\n",
        "count1"
      ],
      "metadata": {
        "colab": {
          "base_uri": "https://localhost:8080/"
        },
        "id": "DCFsimjNxRmw",
        "outputId": "3cc046b8-f359-4e22-aa41-dd023f4451fc"
      },
      "execution_count": 81,
      "outputs": [
        {
          "output_type": "stream",
          "name": "stdout",
          "text": [
            "deadlock\n"
          ]
        },
        {
          "output_type": "execute_result",
          "data": {
            "text/plain": [
              "7493"
            ]
          },
          "metadata": {},
          "execution_count": 81
        }
      ]
    },
    {
      "cell_type": "code",
      "source": [],
      "metadata": {
        "id": "ZUcVwvTYeSTu"
      },
      "execution_count": null,
      "outputs": []
    }
  ]
}
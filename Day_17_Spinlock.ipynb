{
  "nbformat": 4,
  "nbformat_minor": 0,
  "metadata": {
    "colab": {
      "provenance": [],
      "authorship_tag": "ABX9TyOqiUQhGYR2yf2zsAhvFPhI",
      "include_colab_link": true
    },
    "kernelspec": {
      "name": "python3",
      "display_name": "Python 3"
    },
    "language_info": {
      "name": "python"
    }
  },
  "cells": [
    {
      "cell_type": "markdown",
      "metadata": {
        "id": "view-in-github",
        "colab_type": "text"
      },
      "source": [
        "<a href=\"https://colab.research.google.com/github/elichen/aoc2017/blob/main/Day_17_Spinlock.ipynb\" target=\"_parent\"><img src=\"https://colab.research.google.com/assets/colab-badge.svg\" alt=\"Open In Colab\"/></a>"
      ]
    },
    {
      "cell_type": "code",
      "execution_count": 15,
      "metadata": {
        "colab": {
          "base_uri": "https://localhost:8080/"
        },
        "id": "A5h9MUt_Vjcw",
        "outputId": "435de3a7-2585-4fef-eead-245bf725a74d"
      },
      "outputs": [
        {
          "output_type": "execute_result",
          "data": {
            "text/plain": [
              "[2017, 926, 1120, 683, 468, 31, 518, 1458, 1689, 406]"
            ]
          },
          "metadata": {},
          "execution_count": 15
        }
      ],
      "source": [
        "l = [0]\n",
        "c = 0\n",
        "step = 394\n",
        "n = 2017\n",
        "for i in range(1,n+1):\n",
        "  c = (c + step)%len(l)\n",
        "  l.insert(c+1, i)\n",
        "  c = c+1\n",
        "  # print(l)\n",
        "l[c:c+10]"
      ]
    },
    {
      "cell_type": "code",
      "source": [],
      "metadata": {
        "id": "Li04XsF9Xbd6"
      },
      "execution_count": null,
      "outputs": []
    }
  ]
}
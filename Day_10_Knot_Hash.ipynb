{
  "nbformat": 4,
  "nbformat_minor": 0,
  "metadata": {
    "colab": {
      "provenance": [],
      "authorship_tag": "ABX9TyOSdymka24wXoDU/LUA4z9H",
      "include_colab_link": true
    },
    "kernelspec": {
      "name": "python3",
      "display_name": "Python 3"
    },
    "language_info": {
      "name": "python"
    }
  },
  "cells": [
    {
      "cell_type": "markdown",
      "metadata": {
        "id": "view-in-github",
        "colab_type": "text"
      },
      "source": [
        "<a href=\"https://colab.research.google.com/github/elichen/aoc2017/blob/main/Day_10_Knot_Hash.ipynb\" target=\"_parent\"><img src=\"https://colab.research.google.com/assets/colab-badge.svg\" alt=\"Open In Colab\"/></a>"
      ]
    },
    {
      "cell_type": "code",
      "execution_count": 6,
      "metadata": {
        "id": "NdETlNpSyhat"
      },
      "outputs": [],
      "source": [
        "def knot_hash(lengths):\n",
        "    numbers = list(range(256))\n",
        "    current_position = 0\n",
        "    skip_size = 0\n",
        "\n",
        "    for length in lengths:\n",
        "        sublist = [numbers[(current_position + i) % len(numbers)] for i in range(length)]\n",
        "        sublist.reverse()\n",
        "        for i in range(length):\n",
        "            numbers[(current_position + i) % len(numbers)] = sublist[i]\n",
        "        current_position = (current_position + length + skip_size) % len(numbers)\n",
        "        skip_size += 1\n",
        "\n",
        "    return numbers\n",
        "\n",
        "# lengths = [3, 4, 1, 5]\n",
        "lengths = list(map(int,\"165,1,255,31,87,52,24,113,0,91,148,254,158,2,73,153\".split(',')))\n",
        "knot = knot_hash(lengths)"
      ]
    },
    {
      "cell_type": "code",
      "source": [
        "knot[0]*knot[1]"
      ],
      "metadata": {
        "colab": {
          "base_uri": "https://localhost:8080/"
        },
        "id": "lN599p8c0ahR",
        "outputId": "f9a523d8-e9e5-458d-c806-9e40857b5860"
      },
      "execution_count": 7,
      "outputs": [
        {
          "output_type": "execute_result",
          "data": {
            "text/plain": [
              "4114"
            ]
          },
          "metadata": {},
          "execution_count": 7
        }
      ]
    }
  ]
}
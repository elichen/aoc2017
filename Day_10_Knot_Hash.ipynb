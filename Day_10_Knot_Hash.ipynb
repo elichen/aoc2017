{
  "nbformat": 4,
  "nbformat_minor": 0,
  "metadata": {
    "colab": {
      "provenance": [],
      "authorship_tag": "ABX9TyOfnusFlOxB7aWlBG/7RSn5",
      "include_colab_link": true
    },
    "kernelspec": {
      "name": "python3",
      "display_name": "Python 3"
    },
    "language_info": {
      "name": "python"
    }
  },
  "cells": [
    {
      "cell_type": "markdown",
      "metadata": {
        "id": "view-in-github",
        "colab_type": "text"
      },
      "source": [
        "<a href=\"https://colab.research.google.com/github/elichen/aoc2017/blob/main/Day_10_Knot_Hash.ipynb\" target=\"_parent\"><img src=\"https://colab.research.google.com/assets/colab-badge.svg\" alt=\"Open In Colab\"/></a>"
      ]
    },
    {
      "cell_type": "code",
      "source": [
        "data = \"165,1,255,31,87,52,24,113,0,91,148,254,158,2,73,153\""
      ],
      "metadata": {
        "id": "2sbHmRxi21IQ"
      },
      "execution_count": 11,
      "outputs": []
    },
    {
      "cell_type": "code",
      "execution_count": 12,
      "metadata": {
        "id": "NdETlNpSyhat"
      },
      "outputs": [],
      "source": [
        "def knot(lengths):\n",
        "    numbers = list(range(256))\n",
        "    current_position = 0\n",
        "    skip_size = 0\n",
        "\n",
        "    for length in lengths:\n",
        "        sublist = [numbers[(current_position + i) % len(numbers)] for i in range(length)]\n",
        "        sublist.reverse()\n",
        "        for i in range(length):\n",
        "            numbers[(current_position + i) % len(numbers)] = sublist[i]\n",
        "        current_position = (current_position + length + skip_size) % len(numbers)\n",
        "        skip_size += 1\n",
        "\n",
        "    return numbers\n",
        "\n",
        "# lengths = [3, 4, 1, 5]\n",
        "lengths = list(map(int,data.split(',')))\n",
        "l = knot(lengths)"
      ]
    },
    {
      "cell_type": "code",
      "source": [
        "l[0]*l[1]"
      ],
      "metadata": {
        "colab": {
          "base_uri": "https://localhost:8080/"
        },
        "id": "lN599p8c0ahR",
        "outputId": "cbafae5b-0e82-4c4a-a1d9-307b674a9344"
      },
      "execution_count": 13,
      "outputs": [
        {
          "output_type": "execute_result",
          "data": {
            "text/plain": [
              "4114"
            ]
          },
          "metadata": {},
          "execution_count": 13
        }
      ]
    },
    {
      "cell_type": "code",
      "source": [
        "def knot2(lengths, numbers, current_position, skip_size):\n",
        "    for length in lengths:\n",
        "        sublist = [numbers[(current_position + i) % len(numbers)] for i in range(length)]\n",
        "        sublist.reverse()\n",
        "        for i in range(length):\n",
        "            numbers[(current_position + i) % len(numbers)] = sublist[i]\n",
        "        current_position = (current_position + length + skip_size) % len(numbers)\n",
        "        skip_size += 1\n",
        "\n",
        "    return numbers, current_position, skip_size\n",
        "\n",
        "from functools import reduce\n",
        "from operator import xor\n",
        "def dense_hash(l):\n",
        "    return [reduce(xor,x) for x in [l[i:i+16] for i in range(0,256,16)]]\n",
        "\n",
        "def knot_hash(s):\n",
        "  lengths = [ord(c) for c in s] + [17, 31, 73, 47, 23]\n",
        "  numbers = list(range(256))\n",
        "  current_position = 0\n",
        "  skip_size = 0\n",
        "  for _ in range(64):\n",
        "    numbers, current_position, skip_size = knot2(lengths, numbers, current_position, skip_size)\n",
        "  dense = dense_hash(numbers)\n",
        "  return(\"\".join([f'{x:02x}' for x in dense]))\n",
        "\n",
        "knot_hash(data)"
      ],
      "metadata": {
        "colab": {
          "base_uri": "https://localhost:8080/",
          "height": 35
        },
        "id": "BtawPGqe2n-H",
        "outputId": "b0c586a2-39b1-41ef-9637-72189a00350d"
      },
      "execution_count": 35,
      "outputs": [
        {
          "output_type": "execute_result",
          "data": {
            "text/plain": [
              "'2f8c3d2100fdd57cec130d928b0fd2dd'"
            ],
            "application/vnd.google.colaboratory.intrinsic+json": {
              "type": "string"
            }
          },
          "metadata": {},
          "execution_count": 35
        }
      ]
    }
  ]
}
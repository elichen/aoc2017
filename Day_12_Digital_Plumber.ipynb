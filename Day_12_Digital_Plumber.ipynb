{
  "nbformat": 4,
  "nbformat_minor": 0,
  "metadata": {
    "colab": {
      "provenance": [],
      "authorship_tag": "ABX9TyN8Y1FCHSqvCDfu1FnvPb+e",
      "include_colab_link": true
    },
    "kernelspec": {
      "name": "python3",
      "display_name": "Python 3"
    },
    "language_info": {
      "name": "python"
    }
  },
  "cells": [
    {
      "cell_type": "markdown",
      "metadata": {
        "id": "view-in-github",
        "colab_type": "text"
      },
      "source": [
        "<a href=\"https://colab.research.google.com/github/elichen/aoc2017/blob/main/Day_12_Digital_Plumber.ipynb\" target=\"_parent\"><img src=\"https://colab.research.google.com/assets/colab-badge.svg\" alt=\"Open In Colab\"/></a>"
      ]
    },
    {
      "cell_type": "code",
      "execution_count": 25,
      "metadata": {
        "id": "tmNfsOyt3yrs"
      },
      "outputs": [],
      "source": [
        "data = \"\"\"0 <-> 2\n",
        "1 <-> 1\n",
        "2 <-> 0, 3, 4\n",
        "3 <-> 2, 4\n",
        "4 <-> 2, 3, 6\n",
        "5 <-> 6\n",
        "6 <-> 4, 5\"\"\".split('\\n')"
      ]
    },
    {
      "cell_type": "code",
      "source": [
        "data = [x.rstrip() for x in open(\"input.txt\").readlines()]"
      ],
      "metadata": {
        "id": "ZHb5oE5X5EfA"
      },
      "execution_count": 26,
      "outputs": []
    },
    {
      "cell_type": "code",
      "source": [
        "# Initialize an empty dictionary to store the adjacency list\n",
        "graph = {}\n",
        "\n",
        "# Parse each string in the input list\n",
        "for item in data:\n",
        "    # Split the string on '<->' to separate the node from its neighbors\n",
        "    node, neighbors = item.split(' <-> ')\n",
        "    # Split the neighbors string on ', ' to get a list of neighbors\n",
        "    neighbors_list = neighbors.split(', ')\n",
        "    # Update the graph dictionary\n",
        "    # Convert node and neighbors to integers for consistency\n",
        "    node = int(node)\n",
        "    if node not in graph:\n",
        "        graph[node] = set()\n",
        "    for neighbor in neighbors_list:\n",
        "        neighbor = int(neighbor)\n",
        "        graph[node].add(neighbor)\n",
        "        # Since it's bidirectional, add the node to the neighbor's list as well\n",
        "        if neighbor not in graph:\n",
        "            graph[neighbor] = set()\n",
        "        graph[neighbor].add(node)\n",
        "\n",
        "# Convert sets to lists for consistency in output\n",
        "graph = {node: list(adjacent) for node, adjacent in graph.items()}"
      ],
      "metadata": {
        "id": "S47_vrKP32n0"
      },
      "execution_count": 27,
      "outputs": []
    },
    {
      "cell_type": "code",
      "source": [
        "from collections import deque\n",
        "\n",
        "def bfs_traverse(graph, start):\n",
        "    visited = set()  # Keep track of visited nodes\n",
        "    queue = deque([start])  # Use a queue to hold the nodes to visit\n",
        "\n",
        "    while queue:\n",
        "        # Pop the leftmost (first) element from the queue\n",
        "        node = queue.popleft()\n",
        "        if node not in visited:\n",
        "            visited.add(node)  # Mark the node as visited\n",
        "            # Add the neighbors of the node to the queue if they haven't been visited\n",
        "            queue.extend(n for n in graph[node] if n not in visited)\n",
        "\n",
        "    return visited\n",
        "\n",
        "bfs_visited = bfs_traverse(graph, 0)\n",
        "len(bfs_visited)"
      ],
      "metadata": {
        "colab": {
          "base_uri": "https://localhost:8080/"
        },
        "id": "p2F61Luj4TtN",
        "outputId": "76632b4c-21e4-40ba-d45e-88af4d7a4999"
      },
      "execution_count": 28,
      "outputs": [
        {
          "output_type": "execute_result",
          "data": {
            "text/plain": [
              "130"
            ]
          },
          "metadata": {},
          "execution_count": 28
        }
      ]
    },
    {
      "cell_type": "code",
      "source": [
        "nodes = list(graph.keys())\n",
        "groups = []\n",
        "for node in nodes:\n",
        "  if not any(node in x for x in groups):\n",
        "    groups.append(bfs_traverse(graph, node))\n",
        "len(groups)"
      ],
      "metadata": {
        "colab": {
          "base_uri": "https://localhost:8080/"
        },
        "id": "xMLXipzY5tF8",
        "outputId": "1998b44a-8b10-4383-dec9-b649c1daaa10"
      },
      "execution_count": 29,
      "outputs": [
        {
          "output_type": "execute_result",
          "data": {
            "text/plain": [
              "189"
            ]
          },
          "metadata": {},
          "execution_count": 29
        }
      ]
    }
  ]
}
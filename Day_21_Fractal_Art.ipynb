{
  "nbformat": 4,
  "nbformat_minor": 0,
  "metadata": {
    "colab": {
      "provenance": [],
      "authorship_tag": "ABX9TyMA1oa19UzR7/JJjW3T0S0P",
      "include_colab_link": true
    },
    "kernelspec": {
      "name": "python3",
      "display_name": "Python 3"
    },
    "language_info": {
      "name": "python"
    }
  },
  "cells": [
    {
      "cell_type": "markdown",
      "metadata": {
        "id": "view-in-github",
        "colab_type": "text"
      },
      "source": [
        "<a href=\"https://colab.research.google.com/github/elichen/aoc2017/blob/main/Day_21_Fractal_Art.ipynb\" target=\"_parent\"><img src=\"https://colab.research.google.com/assets/colab-badge.svg\" alt=\"Open In Colab\"/></a>"
      ]
    },
    {
      "cell_type": "code",
      "execution_count": 21,
      "metadata": {
        "id": "mYixCd0sINyf"
      },
      "outputs": [],
      "source": [
        "data = \"\"\"../.# => ##./#../...\n",
        ".#./..#/### => #..#/..../..../#..#\"\"\".split('\\n')"
      ]
    },
    {
      "cell_type": "code",
      "source": [
        "data = [x.rstrip() for x in open(\"input.txt\").readlines()]"
      ],
      "metadata": {
        "id": "r_CIyvmI5TFA"
      },
      "execution_count": 22,
      "outputs": []
    },
    {
      "cell_type": "code",
      "source": [
        "rules = {key: value for key, value in (rule.split(' => ') for rule in data)}"
      ],
      "metadata": {
        "id": "g9WY8xxdIcdN"
      },
      "execution_count": 23,
      "outputs": []
    },
    {
      "cell_type": "code",
      "source": [
        "def split_grid(grid):\n",
        "    size = len(grid)\n",
        "    split_size = 2 if size % 2 == 0 else 3\n",
        "    return [[grid[y+i][x:x+split_size] for i in range(split_size)] for y in range(0, size, split_size) for x in range(0, size, split_size)]\n",
        "\n",
        "def rotate(pattern):\n",
        "    return [\"\".join(row[i] for row in pattern[::-1]) for i in range(len(pattern))]\n",
        "\n",
        "def flip(pattern):\n",
        "    return [row[::-1] for row in pattern]\n",
        "\n",
        "def patterns_match(pat1, pat2):\n",
        "    return pat1 == pat2 or pat1 == flip(pat2) or any(rotate(rotated) == pat2 for rotated in [pat1, rotate(pat1), rotate(rotate(pat1)), rotate(rotate(rotate(pat1)))])\n",
        "\n",
        "def find_rule(pattern, rules):\n",
        "    for key, value in rules.items():\n",
        "        key_pattern = key.split('/')\n",
        "        if pattern == key_pattern or any(patterns_match(pattern, rotate(key_pattern)) for _ in range(4)) or any(patterns_match(pattern, flip(key_pattern)) for _ in range(4)):\n",
        "            return value.split('/')\n",
        "    return pattern  # Return unchanged if no rule matches\n",
        "\n",
        "def enhance_grid(squares, rules):\n",
        "    enhanced = []\n",
        "    for square in squares:\n",
        "        enhanced_pattern = find_rule(square, rules)\n",
        "        enhanced.append(enhanced_pattern)\n",
        "    return enhanced\n",
        "\n",
        "def reassemble_grid(enhanced_squares, per_row):\n",
        "    size = len(enhanced_squares[0])\n",
        "    grid = [\"\" for _ in range(size * per_row)]\n",
        "    for i, square in enumerate(enhanced_squares):\n",
        "        row_base = (i // per_row) * size\n",
        "        for j, row in enumerate(square):\n",
        "            grid[row_base + j] += row\n",
        "    return grid\n",
        "\n",
        "def simulate_rounds(initial_pattern, rules, rounds=1):\n",
        "    grid = initial_pattern.split('/')\n",
        "    for _ in range(rounds):\n",
        "        squares = split_grid(grid)\n",
        "        enhanced_squares = enhance_grid(squares, rules)\n",
        "        grid = reassemble_grid(enhanced_squares, len(grid) // len(squares[0]))\n",
        "    return grid\n",
        "\n",
        "initial_pattern = \".#./..#/###\"\n",
        "\n",
        "enhanced_grid = simulate_rounds(initial_pattern, rules, 5)\n",
        "sum(row.count('#') for row in enhanced_grid)"
      ],
      "metadata": {
        "colab": {
          "base_uri": "https://localhost:8080/"
        },
        "id": "UtZ8x4aVIumd",
        "outputId": "9db03ae1-ec22-4c39-a2bb-0f48f61d6f9e"
      },
      "execution_count": 25,
      "outputs": [
        {
          "output_type": "execute_result",
          "data": {
            "text/plain": [
              "150"
            ]
          },
          "metadata": {},
          "execution_count": 25
        }
      ]
    },
    {
      "cell_type": "code",
      "source": [
        "cache = {}  # Initialize the cache outside the functions for simplicity\n",
        "\n",
        "def find_rule_with_cache(pattern, rules):\n",
        "    pattern_str = '/'.join(pattern)  # Convert the pattern list to a string to use as a cache key\n",
        "    if pattern_str in cache:\n",
        "        return cache[pattern_str].split('/')\n",
        "\n",
        "    for key, value in rules.items():\n",
        "        key_pattern = key.split('/')\n",
        "        if pattern == key_pattern or any(patterns_match(pattern, rotate(key_pattern)) for _ in range(4)) or any(patterns_match(pattern, flip(key_pattern)) for _ in range(4)):\n",
        "            cache[pattern_str] = value  # Cache the result\n",
        "            return value.split('/')\n",
        "\n",
        "    cache[pattern_str] = '/'.join(pattern)  # Cache the unchanged pattern if no rule matches\n",
        "    return pattern\n",
        "\n",
        "# We'll update the `enhance_grid` function to use `find_rule_with_cache` instead of `find_rule`\n",
        "def enhance_grid_with_cache(squares, rules):\n",
        "    enhanced = []\n",
        "    for square in squares:\n",
        "        enhanced_pattern = find_rule_with_cache(square, rules)\n",
        "        enhanced.append(enhanced_pattern)\n",
        "    return enhanced\n",
        "\n",
        "grid = initial_pattern.split('/')\n",
        "for i in range(18):\n",
        "    squares = split_grid(grid)\n",
        "    enhanced_squares = enhance_grid_with_cache(squares, rules)\n",
        "    grid = reassemble_grid(enhanced_squares, len(grid) // len(squares[0]))\n",
        "    print(i,\"---\", sum(row.count('#') for row in grid))"
      ],
      "metadata": {
        "colab": {
          "base_uri": "https://localhost:8080/"
        },
        "id": "z5AUK3z1_yr7",
        "outputId": "dcb036ac-17af-47fa-afe3-052be72e055d"
      },
      "execution_count": 34,
      "outputs": [
        {
          "output_type": "stream",
          "name": "stdout",
          "text": [
            "0 --- 6\n",
            "1 --- 16\n",
            "2 --- 40\n",
            "3 --- 68\n",
            "4 --- 150\n",
            "5 --- 383\n",
            "6 --- 682\n",
            "7 --- 1419\n",
            "8 --- 3601\n",
            "9 --- 6035\n",
            "10 --- 12583\n",
            "11 --- 32127\n",
            "12 --- 54609\n",
            "13 --- 113745\n",
            "14 --- 289767\n",
            "15 --- 490749\n",
            "16 --- 1022461\n",
            "17 --- 2606275\n"
          ]
        }
      ]
    }
  ]
}
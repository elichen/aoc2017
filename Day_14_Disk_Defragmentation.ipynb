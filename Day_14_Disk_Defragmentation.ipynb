{
  "nbformat": 4,
  "nbformat_minor": 0,
  "metadata": {
    "colab": {
      "provenance": [],
      "authorship_tag": "ABX9TyNl6iO0U1tqfNW4YecneFn3",
      "include_colab_link": true
    },
    "kernelspec": {
      "name": "python3",
      "display_name": "Python 3"
    },
    "language_info": {
      "name": "python"
    }
  },
  "cells": [
    {
      "cell_type": "markdown",
      "metadata": {
        "id": "view-in-github",
        "colab_type": "text"
      },
      "source": [
        "<a href=\"https://colab.research.google.com/github/elichen/aoc2017/blob/main/Day_14_Disk_Defragmentation.ipynb\" target=\"_parent\"><img src=\"https://colab.research.google.com/assets/colab-badge.svg\" alt=\"Open In Colab\"/></a>"
      ]
    },
    {
      "cell_type": "code",
      "execution_count": 23,
      "metadata": {
        "id": "CPZVstPi3ROS"
      },
      "outputs": [],
      "source": [
        "def knot2(lengths, numbers, current_position, skip_size):\n",
        "    for length in lengths:\n",
        "        sublist = [numbers[(current_position + i) % len(numbers)] for i in range(length)]\n",
        "        sublist.reverse()\n",
        "        for i in range(length):\n",
        "            numbers[(current_position + i) % len(numbers)] = sublist[i]\n",
        "        current_position = (current_position + length + skip_size) % len(numbers)\n",
        "        skip_size += 1\n",
        "\n",
        "    return numbers, current_position, skip_size\n",
        "\n",
        "from functools import reduce\n",
        "from operator import xor\n",
        "def dense_hash(l):\n",
        "    return [reduce(xor,x) for x in [l[i:i+16] for i in range(0,256,16)]]\n",
        "\n",
        "def knot_hash(s):\n",
        "  lengths = [ord(c) for c in s] + [17, 31, 73, 47, 23]\n",
        "  numbers = list(range(256))\n",
        "  current_position = 0\n",
        "  skip_size = 0\n",
        "  for _ in range(64):\n",
        "    numbers, current_position, skip_size = knot2(lengths, numbers, current_position, skip_size)\n",
        "  dense = dense_hash(numbers)\n",
        "  return(\"\".join([f'{x:02x}' for x in dense]))"
      ]
    },
    {
      "cell_type": "code",
      "source": [
        "data = \"flqrgnkx\"\n",
        "data = \"ffayrhll\""
      ],
      "metadata": {
        "id": "hgdm6QeG4iWz"
      },
      "execution_count": 24,
      "outputs": []
    },
    {
      "cell_type": "code",
      "source": [
        "total = 0\n",
        "for i in range(128):\n",
        "  hex_string = knot_hash(f\"{data}-{i}\")\n",
        "  binary_string = bin(int(hex_string, 16))[2:]\n",
        "  binary_string = binary_string.zfill(len(hex_string) * 4)\n",
        "  bit_count = binary_string.count('1')\n",
        "  total += bit_count\n",
        "total"
      ],
      "metadata": {
        "colab": {
          "base_uri": "https://localhost:8080/"
        },
        "id": "nD02DIw74l39",
        "outputId": "c86c4e8b-492e-4e39-818a-1fe5f3d65149"
      },
      "execution_count": 25,
      "outputs": [
        {
          "output_type": "execute_result",
          "data": {
            "text/plain": [
              "8190"
            ]
          },
          "metadata": {},
          "execution_count": 25
        }
      ]
    },
    {
      "cell_type": "code",
      "source": [
        "import numpy as np\n",
        "from collections import deque\n",
        "\n",
        "def find_regions(data):\n",
        "    grid_size = 128\n",
        "    grid = np.zeros((grid_size, grid_size), dtype=int)\n",
        "\n",
        "    # Convert hex strings to binary and fill the numpy array\n",
        "    for i in range(grid_size):\n",
        "        hex_string = knot_hash(f\"{data}-{i}\")\n",
        "        binary_string = bin(int(hex_string, 16))[2:].zfill(len(hex_string) * 4)\n",
        "        for j in range(grid_size):\n",
        "            grid[i, j] = int(binary_string[j])\n",
        "\n",
        "    visited_sets = []\n",
        "\n",
        "    # Function to perform BFS\n",
        "    def bfs(start):\n",
        "        visited = set()\n",
        "        queue = deque([start])\n",
        "        while queue:\n",
        "            x, y = queue.popleft()\n",
        "            if (x, y) not in visited:\n",
        "                visited.add((x, y))\n",
        "                for dx, dy in [(1,0), (-1,0), (0,1), (0,-1)]: # Adjacent squares\n",
        "                    nx, ny = x + dx, y + dy\n",
        "                    if 0 <= nx < grid_size and 0 <= ny < grid_size and grid[nx, ny] == 1 and (nx, ny) not in visited:\n",
        "                        queue.append((nx, ny))\n",
        "        return visited\n",
        "\n",
        "    # Iterate over each bit in the grid\n",
        "    for i in range(grid_size):\n",
        "        for j in range(grid_size):\n",
        "            if grid[i, j] == 1 and not any((i, j) in visited_set for visited_set in visited_sets):\n",
        "                new_visited_set = bfs((i, j))\n",
        "                visited_sets.append(new_visited_set)\n",
        "\n",
        "    return visited_sets\n",
        "\n",
        "visited_sets = find_regions(data)\n",
        "\n",
        "len(visited_sets)"
      ],
      "metadata": {
        "colab": {
          "base_uri": "https://localhost:8080/"
        },
        "id": "70FL4tt55GGa",
        "outputId": "940aeec9-0d7c-4051-c363-12377c4b9e07"
      },
      "execution_count": 26,
      "outputs": [
        {
          "output_type": "execute_result",
          "data": {
            "text/plain": [
              "1134"
            ]
          },
          "metadata": {},
          "execution_count": 26
        }
      ]
    }
  ]
}
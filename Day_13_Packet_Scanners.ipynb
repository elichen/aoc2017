{
  "nbformat": 4,
  "nbformat_minor": 0,
  "metadata": {
    "colab": {
      "provenance": [],
      "authorship_tag": "ABX9TyNzWVespVZkmuNxjiUs7BV+",
      "include_colab_link": true
    },
    "kernelspec": {
      "name": "python3",
      "display_name": "Python 3"
    },
    "language_info": {
      "name": "python"
    }
  },
  "cells": [
    {
      "cell_type": "markdown",
      "metadata": {
        "id": "view-in-github",
        "colab_type": "text"
      },
      "source": [
        "<a href=\"https://colab.research.google.com/github/elichen/aoc2017/blob/main/Day_13_Packet_Scanners.ipynb\" target=\"_parent\"><img src=\"https://colab.research.google.com/assets/colab-badge.svg\" alt=\"Open In Colab\"/></a>"
      ]
    },
    {
      "cell_type": "code",
      "execution_count": 34,
      "metadata": {
        "id": "MsOON0KSwaGH"
      },
      "outputs": [],
      "source": [
        "data = \"\"\"0: 3\n",
        "1: 2\n",
        "4: 4\n",
        "6: 4\"\"\".split('\\n')"
      ]
    },
    {
      "cell_type": "code",
      "source": [
        "data = [x.rstrip() for x in open(\"input.txt\").readlines()]"
      ],
      "metadata": {
        "id": "cuKSP4Xq4zPo"
      },
      "execution_count": 35,
      "outputs": []
    },
    {
      "cell_type": "code",
      "source": [
        "def parse_string_list_to_dict(str_list):\n",
        "    result = {}\n",
        "    for item in str_list:\n",
        "        key, value = item.split(\": \")\n",
        "        result[int(key)] = int(value)\n",
        "    return result\n",
        "\n",
        "firewall = parse_string_list_to_dict(data)"
      ],
      "metadata": {
        "id": "boaa170ZwrUf"
      },
      "execution_count": 36,
      "outputs": []
    },
    {
      "cell_type": "code",
      "source": [
        "total = 0\n",
        "for k,v in firewall.items():\n",
        "  if k%((v-1)*2) == 0:\n",
        "    total += k*v\n",
        "total"
      ],
      "metadata": {
        "colab": {
          "base_uri": "https://localhost:8080/"
        },
        "id": "e-p8yHsHyzc7",
        "outputId": "fbd58fa4-6843-4e1b-a1c1-7a4e47cd9487"
      },
      "execution_count": 37,
      "outputs": [
        {
          "output_type": "execute_result",
          "data": {
            "text/plain": [
              "2264"
            ]
          },
          "metadata": {},
          "execution_count": 37
        }
      ]
    },
    {
      "cell_type": "code",
      "source": [
        "def is_clear(t):\n",
        "  for k,v in firewall.items():\n",
        "    if (k+t)%((v-1)*2) == 0:\n",
        "      return False\n",
        "  return True\n",
        "\n",
        "delay = 0\n",
        "while True:\n",
        "  if is_clear(delay):\n",
        "    break\n",
        "  delay += 1\n",
        "delay"
      ],
      "metadata": {
        "colab": {
          "base_uri": "https://localhost:8080/"
        },
        "id": "18HVCzbB42Jh",
        "outputId": "5306426f-fa27-415c-be88-1df5eadfc586"
      },
      "execution_count": 38,
      "outputs": [
        {
          "output_type": "execute_result",
          "data": {
            "text/plain": [
              "3875838"
            ]
          },
          "metadata": {},
          "execution_count": 38
        }
      ]
    }
  ]
}
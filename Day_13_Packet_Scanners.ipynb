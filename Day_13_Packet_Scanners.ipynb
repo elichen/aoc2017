{
  "nbformat": 4,
  "nbformat_minor": 0,
  "metadata": {
    "colab": {
      "provenance": [],
      "authorship_tag": "ABX9TyNqdzlsjYLZMAmZi5sy496w",
      "include_colab_link": true
    },
    "kernelspec": {
      "name": "python3",
      "display_name": "Python 3"
    },
    "language_info": {
      "name": "python"
    }
  },
  "cells": [
    {
      "cell_type": "markdown",
      "metadata": {
        "id": "view-in-github",
        "colab_type": "text"
      },
      "source": [
        "<a href=\"https://colab.research.google.com/github/elichen/aoc2017/blob/main/Day_13_Packet_Scanners.ipynb\" target=\"_parent\"><img src=\"https://colab.research.google.com/assets/colab-badge.svg\" alt=\"Open In Colab\"/></a>"
      ]
    },
    {
      "cell_type": "code",
      "execution_count": 1,
      "metadata": {
        "id": "MsOON0KSwaGH"
      },
      "outputs": [],
      "source": [
        "data = \"\"\"0: 3\n",
        "1: 2\n",
        "4: 4\n",
        "6: 4\"\"\".split('\\n')"
      ]
    },
    {
      "cell_type": "code",
      "source": [
        "data = [x.rstrip() for x in open(\"input.txt\").readlines()]"
      ],
      "metadata": {
        "id": "cuKSP4Xq4zPo"
      },
      "execution_count": 15,
      "outputs": []
    },
    {
      "cell_type": "code",
      "source": [
        "def parse_string_list_to_dict(str_list):\n",
        "    result = {}\n",
        "    for item in str_list:\n",
        "        key, value = item.split(\": \")\n",
        "        result[int(key)] = int(value)\n",
        "    return result\n",
        "\n",
        "firewall = parse_string_list_to_dict(data)"
      ],
      "metadata": {
        "id": "boaa170ZwrUf"
      },
      "execution_count": 16,
      "outputs": []
    },
    {
      "cell_type": "code",
      "source": [
        "total = 0\n",
        "for k,v in firewall.items():\n",
        "  if k%((v-1)*2) == 0:\n",
        "    total += k*v\n",
        "total"
      ],
      "metadata": {
        "colab": {
          "base_uri": "https://localhost:8080/"
        },
        "id": "e-p8yHsHyzc7",
        "outputId": "840da23e-6891-4770-a850-93fa6fe74b7c"
      },
      "execution_count": 17,
      "outputs": [
        {
          "output_type": "execute_result",
          "data": {
            "text/plain": [
              "2264"
            ]
          },
          "metadata": {},
          "execution_count": 17
        }
      ]
    },
    {
      "cell_type": "code",
      "source": [],
      "metadata": {
        "id": "18HVCzbB42Jh"
      },
      "execution_count": null,
      "outputs": []
    }
  ]
}
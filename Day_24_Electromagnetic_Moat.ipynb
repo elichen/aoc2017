{
  "nbformat": 4,
  "nbformat_minor": 0,
  "metadata": {
    "colab": {
      "provenance": [],
      "authorship_tag": "ABX9TyObenlihllja2TL920c3kAy",
      "include_colab_link": true
    },
    "kernelspec": {
      "name": "python3",
      "display_name": "Python 3"
    },
    "language_info": {
      "name": "python"
    }
  },
  "cells": [
    {
      "cell_type": "markdown",
      "metadata": {
        "id": "view-in-github",
        "colab_type": "text"
      },
      "source": [
        "<a href=\"https://colab.research.google.com/github/elichen/aoc2017/blob/main/Day_24_Electromagnetic_Moat.ipynb\" target=\"_parent\"><img src=\"https://colab.research.google.com/assets/colab-badge.svg\" alt=\"Open In Colab\"/></a>"
      ]
    },
    {
      "cell_type": "code",
      "execution_count": 53,
      "metadata": {
        "id": "Tq2T6b0K23Cz"
      },
      "outputs": [],
      "source": [
        "data = \"\"\"0/2\n",
        "2/2\n",
        "2/3\n",
        "3/4\n",
        "3/5\n",
        "0/1\n",
        "10/1\n",
        "9/10\"\"\".split('\\n')"
      ]
    },
    {
      "cell_type": "code",
      "source": [
        "data = [x.rstrip() for x in open(\"input.txt\").readlines()]"
      ],
      "metadata": {
        "id": "P7xQJjDr9Tnk"
      },
      "execution_count": 54,
      "outputs": []
    },
    {
      "cell_type": "code",
      "source": [
        "l = [tuple(map(int,x.split('/'))) for x in data]"
      ],
      "metadata": {
        "id": "BXmxbLYU3MC5"
      },
      "execution_count": 55,
      "outputs": []
    },
    {
      "cell_type": "code",
      "source": [
        "strongest = [0]\n",
        "def bridge(prefix, remaining):\n",
        "  # print(prefix, remaining)\n",
        "  strength = sum(a+b for a,b in prefix)\n",
        "  if strength > strongest[0]: strongest[0] = strength\n",
        "  n = prefix[-1][-1] if len(prefix) > 0 else 0\n",
        "  for i in list(i for i, v in enumerate(remaining) if v[0] == n or v[1] == n):\n",
        "    new_remaining = remaining.copy()\n",
        "    tmp = new_remaining.pop(i)\n",
        "    if tmp[1] == n: tmp = tmp[::-1]\n",
        "    bridge(prefix + [tmp], new_remaining)\n",
        "bridge([], l)\n",
        "strongest"
      ],
      "metadata": {
        "colab": {
          "base_uri": "https://localhost:8080/"
        },
        "id": "BDSFCG4Y6Ab4",
        "outputId": "5f6620ae-0d6a-4820-d338-345f5e37296b"
      },
      "execution_count": 56,
      "outputs": [
        {
          "output_type": "execute_result",
          "data": {
            "text/plain": [
              "[1695]"
            ]
          },
          "metadata": {},
          "execution_count": 56
        }
      ]
    },
    {
      "cell_type": "code",
      "source": [
        "longest = [[]]\n",
        "def bridge(prefix, remaining):\n",
        "  # print(prefix, remaining)\n",
        "  if len(prefix) >= len(longest[0]):\n",
        "    strength = sum(a+b for a,b in prefix)\n",
        "    if strength >  sum(a+b for a,b in longest[0]): longest[0] = prefix\n",
        "  n = prefix[-1][-1] if len(prefix) > 0 else 0\n",
        "  for i in list(i for i, v in enumerate(remaining) if v[0] == n or v[1] == n):\n",
        "    new_remaining = remaining.copy()\n",
        "    tmp = new_remaining.pop(i)\n",
        "    if tmp[1] == n: tmp = tmp[::-1]\n",
        "    bridge(prefix + [tmp], new_remaining)\n",
        "bridge([], l)\n",
        "sum(a+b for a,b in longest[0])"
      ],
      "metadata": {
        "colab": {
          "base_uri": "https://localhost:8080/"
        },
        "id": "hjiRpjOd9Wsp",
        "outputId": "8f172e2b-788c-4fb5-fb85-598aee8c8d9e"
      },
      "execution_count": 57,
      "outputs": [
        {
          "output_type": "execute_result",
          "data": {
            "text/plain": [
              "1673"
            ]
          },
          "metadata": {},
          "execution_count": 57
        }
      ]
    }
  ]
}
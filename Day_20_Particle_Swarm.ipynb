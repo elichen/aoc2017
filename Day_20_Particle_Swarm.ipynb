{
  "nbformat": 4,
  "nbformat_minor": 0,
  "metadata": {
    "colab": {
      "provenance": [],
      "authorship_tag": "ABX9TyMiGRRIPUXX+wQSpkD9J4Sb",
      "include_colab_link": true
    },
    "kernelspec": {
      "name": "python3",
      "display_name": "Python 3"
    },
    "language_info": {
      "name": "python"
    }
  },
  "cells": [
    {
      "cell_type": "markdown",
      "metadata": {
        "id": "view-in-github",
        "colab_type": "text"
      },
      "source": [
        "<a href=\"https://colab.research.google.com/github/elichen/aoc2017/blob/main/Day_20_Particle_Swarm.ipynb\" target=\"_parent\"><img src=\"https://colab.research.google.com/assets/colab-badge.svg\" alt=\"Open In Colab\"/></a>"
      ]
    },
    {
      "cell_type": "code",
      "execution_count": 15,
      "metadata": {
        "id": "vVey7x31G4Zw"
      },
      "outputs": [],
      "source": [
        "data = \"\"\"p=<-4897,3080,2133>, v=<-58,-15,-78>, a=<-1,0,0>\n",
        "p=<395,-997,4914>, v=<-30,66,-69>, a=<-2,0,0>\"\"\".split('\\n')"
      ]
    },
    {
      "cell_type": "code",
      "source": [
        "data = [x.rstrip() for x in open(\"input.txt\").readlines()]"
      ],
      "metadata": {
        "id": "VR1gAB_wIs7t"
      },
      "execution_count": 17,
      "outputs": []
    },
    {
      "cell_type": "code",
      "source": [
        "import re\n",
        "\n",
        "def parse_line(line):\n",
        "    pattern = r'<(.*?)>'\n",
        "    matches = re.findall(pattern, line)\n",
        "    tuples = []\n",
        "    for match in matches:\n",
        "        numbers = tuple(map(int, match.split(',')))\n",
        "        tuples.append(numbers)\n",
        "    return tuple(tuples)\n",
        "\n",
        "particles = [parse_line(line) for line in data]"
      ],
      "metadata": {
        "id": "xzRUxh0wHgSs"
      },
      "execution_count": 21,
      "outputs": []
    },
    {
      "cell_type": "code",
      "source": [
        "def update_particle(particle):\n",
        "    (px, py, pz), (vx, vy, vz), (ax, ay, az) = particle\n",
        "\n",
        "    # Update velocity by acceleration\n",
        "    vx += ax\n",
        "    vy += ay\n",
        "    vz += az\n",
        "\n",
        "    # Update position by velocity\n",
        "    px += vx\n",
        "    py += vy\n",
        "    pz += vz\n",
        "\n",
        "    return ((px, py, pz), (vx, vy, vz), (ax, ay, az))\n",
        "\n",
        "close = None\n",
        "for _ in range(1000):\n",
        "  new_particles = []\n",
        "  for i,item in enumerate(particles):\n",
        "      particle = update_particle(item)\n",
        "      new_particles.append(particle)\n",
        "      p,v,a = particle\n",
        "      dist = sum(abs(coord) for coord in p)\n",
        "      if close == None or dist < close[1]:\n",
        "        close = i,dist\n",
        "  particles = new_particles\n",
        "close"
      ],
      "metadata": {
        "colab": {
          "base_uri": "https://localhost:8080/"
        },
        "id": "V1UfxWFMJHSh",
        "outputId": "347a6f93-3b06-49f9-dd42-c5687d0f1f60"
      },
      "execution_count": 31,
      "outputs": [
        {
          "output_type": "execute_result",
          "data": {
            "text/plain": [
              "(308, 2479998)"
            ]
          },
          "metadata": {},
          "execution_count": 31
        }
      ]
    },
    {
      "cell_type": "code",
      "source": [],
      "metadata": {
        "id": "stdoxfEOIlGQ"
      },
      "execution_count": null,
      "outputs": []
    }
  ]
}
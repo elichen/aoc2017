{
  "nbformat": 4,
  "nbformat_minor": 0,
  "metadata": {
    "colab": {
      "provenance": [],
      "authorship_tag": "ABX9TyPvEW/qK/xya9pw4Dh5bz7w",
      "include_colab_link": true
    },
    "kernelspec": {
      "name": "python3",
      "display_name": "Python 3"
    },
    "language_info": {
      "name": "python"
    }
  },
  "cells": [
    {
      "cell_type": "markdown",
      "metadata": {
        "id": "view-in-github",
        "colab_type": "text"
      },
      "source": [
        "<a href=\"https://colab.research.google.com/github/elichen/aoc2017/blob/main/Day_11_Hex_Ed.ipynb\" target=\"_parent\"><img src=\"https://colab.research.google.com/assets/colab-badge.svg\" alt=\"Open In Colab\"/></a>"
      ]
    },
    {
      "cell_type": "code",
      "execution_count": 11,
      "metadata": {
        "id": "WJL4IM5DpEtS"
      },
      "outputs": [],
      "source": [
        "def step(curr, dir):\n",
        "  x,y = curr\n",
        "  if dir == \"n\":\n",
        "    return (x,y+1)\n",
        "  elif dir == \"s\":\n",
        "    return (x,y-1)\n",
        "  elif dir == \"ne\":\n",
        "    return (x+1, y+.5)\n",
        "  elif dir == \"se\":\n",
        "    return (x+1, y-.5)\n",
        "  elif dir == \"nw\":\n",
        "    return (x-1, y+.5)\n",
        "  elif dir == \"sw\":\n",
        "    return (x-1, y-.5)"
      ]
    },
    {
      "cell_type": "code",
      "source": [
        "def parse_and_do(data):\n",
        "  steps = data.split(\",\")\n",
        "  curr = (0.,0.)\n",
        "  for s in steps:\n",
        "    curr = step(curr, s)\n",
        "  return curr"
      ],
      "metadata": {
        "id": "g0l-tbv8w6f8"
      },
      "execution_count": 29,
      "outputs": []
    },
    {
      "cell_type": "code",
      "source": [
        "data = \"se,sw,se,sw,sw\"\n",
        "data = open(\"input.txt\").read().rstrip()\n",
        "curr = parse_and_do(data)\n",
        "\n",
        "steps = 0\n",
        "while curr != (0.,0.):\n",
        "  # print(curr)\n",
        "  x,y = curr\n",
        "  if x > 0. and y >= 0.:\n",
        "    next = \"sw\"\n",
        "  elif x > 0. and y < 0.:\n",
        "    next = \"nw\"\n",
        "  elif x < 0. and y >= 0.:\n",
        "    next = \"se\"\n",
        "  elif x < 0. and y < 0.:\n",
        "    next = \"ne\"\n",
        "  elif x == 0. and y < 0.:\n",
        "    next = \"n\"\n",
        "  elif x == 0. and y > 0.:\n",
        "    next = \"s\"\n",
        "  curr = step(curr, next)\n",
        "  steps += 1\n",
        "steps"
      ],
      "metadata": {
        "colab": {
          "base_uri": "https://localhost:8080/"
        },
        "id": "7keeP9JjvhHN",
        "outputId": "b8e0b00f-6f2a-48be-a9ef-957ba6582bcf"
      },
      "execution_count": 30,
      "outputs": [
        {
          "output_type": "execute_result",
          "data": {
            "text/plain": [
              "722"
            ]
          },
          "metadata": {},
          "execution_count": 30
        }
      ]
    },
    {
      "cell_type": "code",
      "source": [],
      "metadata": {
        "id": "RORPtZR3w15Q"
      },
      "execution_count": null,
      "outputs": []
    }
  ]
}
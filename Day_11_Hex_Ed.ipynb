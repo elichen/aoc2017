{
  "nbformat": 4,
  "nbformat_minor": 0,
  "metadata": {
    "colab": {
      "provenance": [],
      "authorship_tag": "ABX9TyM/1L0yZeBHpgDWaLisUShT",
      "include_colab_link": true
    },
    "kernelspec": {
      "name": "python3",
      "display_name": "Python 3"
    },
    "language_info": {
      "name": "python"
    }
  },
  "cells": [
    {
      "cell_type": "markdown",
      "metadata": {
        "id": "view-in-github",
        "colab_type": "text"
      },
      "source": [
        "<a href=\"https://colab.research.google.com/github/elichen/aoc2017/blob/main/Day_11_Hex_Ed.ipynb\" target=\"_parent\"><img src=\"https://colab.research.google.com/assets/colab-badge.svg\" alt=\"Open In Colab\"/></a>"
      ]
    },
    {
      "cell_type": "code",
      "execution_count": 35,
      "metadata": {
        "id": "WJL4IM5DpEtS"
      },
      "outputs": [],
      "source": [
        "def step(curr, dir):\n",
        "  x,y = curr\n",
        "  if dir == \"n\":\n",
        "    return (x,y+1)\n",
        "  elif dir == \"s\":\n",
        "    return (x,y-1)\n",
        "  elif dir == \"ne\":\n",
        "    return (x+1, y+.5)\n",
        "  elif dir == \"se\":\n",
        "    return (x+1, y-.5)\n",
        "  elif dir == \"nw\":\n",
        "    return (x-1, y+.5)\n",
        "  elif dir == \"sw\":\n",
        "    return (x-1, y-.5)"
      ]
    },
    {
      "cell_type": "code",
      "source": [
        "def parse_and_do(data):\n",
        "  steps = data.split(\",\")\n",
        "  curr = (0.,0.)\n",
        "  for s in steps:\n",
        "    curr = step(curr, s)\n",
        "  return curr"
      ],
      "metadata": {
        "id": "g0l-tbv8w6f8"
      },
      "execution_count": 36,
      "outputs": []
    },
    {
      "cell_type": "code",
      "source": [
        "def calc_dist(curr):\n",
        "  steps = 0\n",
        "  while curr != (0.,0.):\n",
        "    # print(curr)\n",
        "    x,y = curr\n",
        "    if x > 0. and y >= 0.:\n",
        "      next = \"sw\"\n",
        "    elif x > 0. and y < 0.:\n",
        "      next = \"nw\"\n",
        "    elif x < 0. and y >= 0.:\n",
        "      next = \"se\"\n",
        "    elif x < 0. and y < 0.:\n",
        "      next = \"ne\"\n",
        "    elif x == 0. and y < 0.:\n",
        "      next = \"n\"\n",
        "    elif x == 0. and y > 0.:\n",
        "      next = \"s\"\n",
        "    curr = step(curr, next)\n",
        "    steps += 1\n",
        "  return steps\n",
        "\n",
        "data = \"se,sw,se,sw,sw\"\n",
        "data = open(\"input.txt\").read().rstrip()\n",
        "curr = parse_and_do(data)\n",
        "calc_dist(curr)"
      ],
      "metadata": {
        "colab": {
          "base_uri": "https://localhost:8080/"
        },
        "id": "7keeP9JjvhHN",
        "outputId": "e0ec3e14-e3e0-4826-e2aa-1c99cbf0bc6a"
      },
      "execution_count": 57,
      "outputs": [
        {
          "output_type": "execute_result",
          "data": {
            "text/plain": [
              "722"
            ]
          },
          "metadata": {},
          "execution_count": 57
        }
      ]
    },
    {
      "cell_type": "code",
      "source": [
        "def calc_dist2(curr, memo):\n",
        "    original = curr\n",
        "    steps = 0\n",
        "    while curr != (0., 0.):\n",
        "        if curr in memo:\n",
        "            steps += memo[curr]\n",
        "            break\n",
        "\n",
        "        x, y = curr\n",
        "        if x > 0. and y >= 0.:\n",
        "            next_step = \"sw\"\n",
        "        elif x > 0. and y < 0.:\n",
        "            next_step = \"nw\"\n",
        "        elif x < 0. and y >= 0.:\n",
        "            next_step = \"se\"\n",
        "        elif x < 0. and y < 0.:\n",
        "            next_step = \"ne\"\n",
        "        elif x == 0. and y < 0.:\n",
        "            next_step = \"n\"\n",
        "        elif x == 0. and y > 0.:\n",
        "            next_step = \"s\"\n",
        "\n",
        "        curr = step(curr, next_step)\n",
        "        steps += 1\n",
        "\n",
        "    memo[original] = steps\n",
        "    return steps"
      ],
      "metadata": {
        "id": "e0ICokkA0o-k"
      },
      "execution_count": 58,
      "outputs": []
    },
    {
      "cell_type": "code",
      "source": [
        "max_dist = 0\n",
        "steps = data.split(\",\")\n",
        "curr = (0.,0.)\n",
        "memo = {}\n",
        "for s in steps:\n",
        "  curr = step(curr, s)\n",
        "  dist = calc_dist2(curr, memo)\n",
        "  if dist > max_dist:\n",
        "    max_dist = dist\n",
        "max_dist"
      ],
      "metadata": {
        "colab": {
          "base_uri": "https://localhost:8080/"
        },
        "id": "RORPtZR3w15Q",
        "outputId": "6b4a9860-be7b-4e19-c7c2-b79287fc0530"
      },
      "execution_count": 60,
      "outputs": [
        {
          "output_type": "execute_result",
          "data": {
            "text/plain": [
              "1551"
            ]
          },
          "metadata": {},
          "execution_count": 60
        }
      ]
    },
    {
      "cell_type": "code",
      "source": [],
      "metadata": {
        "id": "yzCN4Tgv0s0U"
      },
      "execution_count": null,
      "outputs": []
    }
  ]
}